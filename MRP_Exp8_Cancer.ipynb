{
  "nbformat": 4,
  "nbformat_minor": 0,
  "metadata": {
    "colab": {
      "name": "MRP_Exp8.ipynb",
      "provenance": [],
      "collapsed_sections": [],
      "machine_shape": "hm"
    },
    "kernelspec": {
      "name": "python3",
      "display_name": "Python 3"
    }
  },
  "cells": [
    {
      "cell_type": "markdown",
      "metadata": {
        "id": "VwG2S40EGvtL",
        "colab_type": "text"
      },
      "source": [
        "First step is to read, and preprocess the data."
      ]
    },
    {
      "cell_type": "code",
      "metadata": {
        "id": "5uyMaADtV-TD",
        "colab_type": "code",
        "colab": {
          "base_uri": "https://localhost:8080/",
          "height": 35
        },
        "outputId": "831e3fdc-bd76-4922-fe6e-e030cd3bf66d"
      },
      "source": [
        "%tensorflow_version 1.x\n",
        "import tensorflow"
      ],
      "execution_count": null,
      "outputs": [
        {
          "output_type": "stream",
          "text": [
            "TensorFlow 1.x selected.\n"
          ],
          "name": "stdout"
        }
      ]
    },
    {
      "cell_type": "code",
      "metadata": {
        "id": "g6OodPbwEdCv",
        "colab_type": "code",
        "colab": {
          "base_uri": "https://localhost:8080/",
          "height": 35
        },
        "outputId": "b0e7a7b5-d24a-4104-b8fc-e81cff2745fe"
      },
      "source": [
        "#imports\n",
        "import os\n",
        "import time\n",
        "from google.colab import drive\n",
        "import numpy as np\n",
        "import matplotlib as plt\n",
        "from matplotlib import pyplot\n",
        "import pandas as pd\n",
        "\n",
        "# Import keras modules\n",
        "from keras.models import Sequential\n",
        "from keras.layers import Dense\n",
        "\n",
        "import numpy as np\n",
        "import keras\n",
        "from keras import models, layers, Input, regularizers\n",
        "from keras.utils import np_utils\n",
        "from keras.models import Sequential, Model\n",
        "import matplotlib.pyplot as plt\n",
        "from keras.layers import Dense\n",
        "import random\n",
        "random.seed(42)\n",
        "\n",
        "from keras.applications.inception_v3 import InceptionV3\n",
        "from keras.preprocessing import image\n",
        "from keras.models import Model\n",
        "from keras.layers import Dense, GlobalAveragePooling2D\n",
        "from keras.optimizers import SGD\n",
        "from keras import backend as K\n",
        "from keras.callbacks import ReduceLROnPlateau\n",
        "from keras.callbacks import ModelCheckpoint"
      ],
      "execution_count": null,
      "outputs": [
        {
          "output_type": "stream",
          "text": [
            "Using TensorFlow backend.\n"
          ],
          "name": "stderr"
        }
      ]
    },
    {
      "cell_type": "code",
      "metadata": {
        "id": "JWi1oI1oG7vQ",
        "colab_type": "code",
        "colab": {}
      },
      "source": [
        "drive.mount('/content/drive')\n",
        "os.chdir('/content/drive/My Drive/Cancer project 2020/clean_data')"
      ],
      "execution_count": null,
      "outputs": []
    },
    {
      "cell_type": "code",
      "metadata": {
        "id": "bM9lj0p-2ke1",
        "colab_type": "code",
        "colab": {}
      },
      "source": [
        "#Toggles\n",
        "self_sup = True\n",
        "incep = False\n",
        "aug = False\n",
        "file_name = \"Exp8v2p1\""
      ],
      "execution_count": null,
      "outputs": []
    },
    {
      "cell_type": "code",
      "metadata": {
        "id": "Qk4WjsvTHYPJ",
        "colab_type": "code",
        "colab": {}
      },
      "source": [
        "start_time = time.clock()\n",
        "#Load data\n",
        "mass_train_data = np.load('train_tensors.npy', allow_pickle=True)\n",
        "mass_test_data = np.load('test_tensors.npy', allow_pickle=True)\n",
        "\n",
        "calc_train_data = np.load('calc_train_tensors.npy', allow_pickle=True)\n",
        "calc_test_data = np.load('calc_test_tensors.npy', allow_pickle=True)"
      ],
      "execution_count": null,
      "outputs": []
    },
    {
      "cell_type": "code",
      "metadata": {
        "id": "_-KS6u7sFTJ8",
        "colab_type": "code",
        "colab": {}
      },
      "source": [
        "import cv2\n",
        "\n",
        "#For each array, go through and resize. write func that takes desired size.\n",
        "def fit_images(height, width, array):\n",
        "    num_img = len(array)\n",
        "    for i in range(num_img):\n",
        "        array[i] = cv2.resize(array[i], dsize = (width, height), interpolation = cv2.INTER_CUBIC)\n",
        "    return array    \n",
        "\n",
        "def grey_to_3(array):\n",
        "    num_img = len(array)\n",
        "    for i in range(num_img):\n",
        "        array[i] = cv2.cvtColor(array[i],cv2.COLOR_GRAY2RGB)\n",
        "    return array    "
      ],
      "execution_count": null,
      "outputs": []
    },
    {
      "cell_type": "code",
      "metadata": {
        "id": "FxkxMXWnquWu",
        "colab_type": "code",
        "colab": {}
      },
      "source": [
        "#I will try Inception, so change H,W\n",
        "if incep == True:\n",
        "    H=299\n",
        "    W=299\n",
        "else:\n",
        "    H=224\n",
        "    W=224\n",
        "\n",
        "mass_train_img = fit_images(H, W, mass_train_data)\n",
        "mass_test_img = fit_images(H,W, mass_test_data)\n",
        "\n",
        "calc_train_img = fit_images(H, W, calc_train_data)\n",
        "calc_test_img = fit_images(H,W, calc_test_data)"
      ],
      "execution_count": null,
      "outputs": []
    },
    {
      "cell_type": "code",
      "metadata": {
        "id": "NUbHueeXrWg6",
        "colab_type": "code",
        "colab": {}
      },
      "source": [
        "mass_train_img = grey_to_3(mass_train_img)\n",
        "mass_test_img = grey_to_3(mass_test_img)\n",
        "\n",
        "calc_train_img = grey_to_3(calc_train_img)\n",
        "calc_test_img = grey_to_3(calc_test_img)"
      ],
      "execution_count": null,
      "outputs": []
    },
    {
      "cell_type": "code",
      "metadata": {
        "id": "3IfiDHR57a5y",
        "colab_type": "code",
        "colab": {}
      },
      "source": [
        "mass_train_img = np.stack(mass_train_img, axis=0)\n",
        "mass_test_img = np.stack(mass_test_img, axis=0)\n",
        "\n",
        "calc_train_img = np.stack(calc_train_img, axis=0)\n",
        "calc_test_img = np.stack(calc_test_img, axis=0)"
      ],
      "execution_count": null,
      "outputs": []
    },
    {
      "cell_type": "code",
      "metadata": {
        "id": "wDKodLUvN8dB",
        "colab_type": "code",
        "colab": {}
      },
      "source": [
        "mass_train_cl = np.ones(len(mass_train_img))\n",
        "mass_test_cl = np.ones(len(mass_test_img))\n",
        "calc_train_cl = np.zeros(len(calc_train_img))\n",
        "calc_test_cl = np.zeros(len(calc_test_img))\n",
        "\n",
        "train_img = np.concatenate((mass_train_img, calc_train_img))\n",
        "test_img = np.concatenate((mass_test_img, calc_test_img))\n",
        "\n",
        "train_cl = np.concatenate((mass_train_cl, calc_train_cl))\n",
        "test_cl = np.concatenate((mass_test_cl, calc_test_cl))"
      ],
      "execution_count": null,
      "outputs": []
    },
    {
      "cell_type": "code",
      "metadata": {
        "id": "kGaq0_nKrpQW",
        "colab_type": "code",
        "colab": {}
      },
      "source": [
        "train_img = train_img.astype('float64') / 65535\n",
        "test_img = test_img.astype('float64') / 65535\n",
        "\n",
        "y_train = np_utils.to_categorical(train_cl, 2)\n",
        "y_test = np_utils.to_categorical(test_cl, 2)"
      ],
      "execution_count": null,
      "outputs": []
    },
    {
      "cell_type": "code",
      "metadata": {
        "id": "63ggBm2OHk76",
        "colab_type": "code",
        "colab": {}
      },
      "source": [
        "#combined, so shuffle"
      ],
      "execution_count": null,
      "outputs": []
    },
    {
      "cell_type": "code",
      "metadata": {
        "id": "vv8hrssCsyrC",
        "colab_type": "code",
        "colab": {}
      },
      "source": [
        "from sklearn.utils import shuffle\n",
        "\n",
        "train_img, y_train = shuffle(train_img, train_cl)\n",
        "test_img, y_test = shuffle(test_img, test_cl)"
      ],
      "execution_count": null,
      "outputs": []
    },
    {
      "cell_type": "code",
      "metadata": {
        "id": "VaGd4uqLI1LV",
        "colab_type": "code",
        "colab": {}
      },
      "source": [
        "y_train = np_utils.to_categorical(y_train, 2)\n",
        "y_test = np_utils.to_categorical(y_test, 2)"
      ],
      "execution_count": null,
      "outputs": []
    },
    {
      "cell_type": "code",
      "metadata": {
        "id": "_9aANXXDQtgG",
        "colab_type": "code",
        "colab": {
          "base_uri": "https://localhost:8080/",
          "height": 35
        },
        "outputId": "387966c2-473b-49de-fc36-a41f6547973a"
      },
      "source": [
        "train_img.shape"
      ],
      "execution_count": null,
      "outputs": [
        {
          "output_type": "execute_result",
          "data": {
            "text/plain": [
              "(2865, 224, 224, 3)"
            ]
          },
          "metadata": {
            "tags": []
          },
          "execution_count": 15
        }
      ]
    },
    {
      "cell_type": "code",
      "metadata": {
        "id": "GDIVkQCU9fK1",
        "colab_type": "code",
        "colab": {}
      },
      "source": [
        "#End of preprocessing"
      ],
      "execution_count": null,
      "outputs": []
    },
    {
      "cell_type": "code",
      "metadata": {
        "id": "qxzuHMpYGuSO",
        "colab_type": "code",
        "colab": {
          "base_uri": "https://localhost:8080/",
          "height": 201
        },
        "outputId": "2047d506-2cdf-4c6d-9c2c-19194b7d32e7"
      },
      "source": [
        "if incep == True:\n",
        "    base_model = keras.applications.InceptionV3(\n",
        "        include_top = False,\n",
        "        weights = \"imagenet\")\n",
        "else:\n",
        "    base_model = keras.applications.DenseNet169(\n",
        "        include_top = False,\n",
        "        weights = \"imagenet\")    "
      ],
      "execution_count": null,
      "outputs": [
        {
          "output_type": "stream",
          "text": [
            "WARNING:tensorflow:From /tensorflow-1.15.2/python3.6/tensorflow_core/python/ops/resource_variable_ops.py:1630: calling BaseResourceVariable.__init__ (from tensorflow.python.ops.resource_variable_ops) with constraint is deprecated and will be removed in a future version.\n",
            "Instructions for updating:\n",
            "If using Keras pass *_constraint arguments to layers.\n",
            "WARNING:tensorflow:From /tensorflow-1.15.2/python3.6/keras/backend/tensorflow_backend.py:4070: The name tf.nn.max_pool is deprecated. Please use tf.nn.max_pool2d instead.\n",
            "\n",
            "WARNING:tensorflow:From /tensorflow-1.15.2/python3.6/keras/backend/tensorflow_backend.py:4074: The name tf.nn.avg_pool is deprecated. Please use tf.nn.avg_pool2d instead.\n",
            "\n",
            "Downloading data from https://github.com/keras-team/keras-applications/releases/download/densenet/densenet169_weights_tf_dim_ordering_tf_kernels_notop.h5\n",
            "51879936/51877672 [==============================] - 1s 0us/step\n"
          ],
          "name": "stdout"
        }
      ]
    },
    {
      "cell_type": "markdown",
      "metadata": {
        "id": "9ZoDKuLUOs07",
        "colab_type": "text"
      },
      "source": [
        "Next step is to load the pre-trained model, add our own dense layer on top, and train the dense layer."
      ]
    },
    {
      "cell_type": "code",
      "metadata": {
        "id": "62PZcaIaYcnr",
        "colab_type": "code",
        "colab": {}
      },
      "source": [
        "if self_sup == True:\n",
        "    cp = ModelCheckpoint(filepath= file_name + 'run1.hdf5', verbose=1, monitor='val_loss', save_best_only=True)"
      ],
      "execution_count": null,
      "outputs": []
    },
    {
      "cell_type": "code",
      "metadata": {
        "id": "TprHVnfLOrpN",
        "colab_type": "code",
        "colab": {
          "base_uri": "https://localhost:8080/",
          "height": 1000
        },
        "outputId": "a080b73a-5ad3-4ae9-b953-113dba37a304"
      },
      "source": [
        "#no fine tuning\n",
        "\n",
        "x = base_model.output\n",
        "x = GlobalAveragePooling2D()(x)\n",
        "\n",
        "x = layers.BatchNormalization()(x)\n",
        "x = layers.Dense(1024, activation = 'relu', kernel_regularizer = regularizers.l2(0.01),)(x)\n",
        "x = layers.Dropout(0.5)(x)\n",
        "\n",
        "predictions = Dense(2, activation='sigmoid')(x)\n",
        "\n",
        "model = Model(inputs=base_model.input, outputs=predictions)\n",
        "\n",
        "\n",
        "if self_sup == True:\n",
        "    for layer in base_model.layers:\n",
        "        layer.trainable = False\n",
        "\n",
        "    model.compile(optimizer=keras.optimizers.RMSprop(lr=0.0001), loss='binary_crossentropy', metrics=[\"accuracy\"])\n",
        "\n",
        "    hist1 = model.fit(x=train_img,y = y_train, epochs=30, validation_data=(test_img, y_test), callbacks=[cp], verbose=1)"
      ],
      "execution_count": null,
      "outputs": [
        {
          "output_type": "stream",
          "text": [
            "WARNING:tensorflow:From /tensorflow-1.15.2/python3.6/tensorflow_core/python/ops/nn_impl.py:183: where (from tensorflow.python.ops.array_ops) is deprecated and will be removed in a future version.\n",
            "Instructions for updating:\n",
            "Use tf.where in 2.0, which has the same broadcast rule as np.where\n",
            "WARNING:tensorflow:From /tensorflow-1.15.2/python3.6/keras/backend/tensorflow_backend.py:422: The name tf.global_variables is deprecated. Please use tf.compat.v1.global_variables instead.\n",
            "\n",
            "Train on 2865 samples, validate on 704 samples\n",
            "Epoch 1/30\n",
            "2865/2865 [==============================] - 24s 9ms/step - loss: 10.7721 - accuracy: 0.7283 - val_loss: 9.0078 - val_accuracy: 0.5092\n",
            "\n",
            "Epoch 00001: val_loss improved from inf to 9.00784, saving model to Exp8v2p1run1.hdf5\n",
            "Epoch 2/30\n",
            "2865/2865 [==============================] - 11s 4ms/step - loss: 7.2478 - accuracy: 0.8152 - val_loss: 6.1775 - val_accuracy: 0.5433\n",
            "\n",
            "Epoch 00002: val_loss improved from 9.00784 to 6.17748, saving model to Exp8v2p1run1.hdf5\n",
            "Epoch 3/30\n",
            "2865/2865 [==============================] - 11s 4ms/step - loss: 4.9132 - accuracy: 0.8403 - val_loss: 4.4236 - val_accuracy: 0.5220\n",
            "\n",
            "Epoch 00003: val_loss improved from 6.17748 to 4.42362, saving model to Exp8v2p1run1.hdf5\n",
            "Epoch 4/30\n",
            "2865/2865 [==============================] - 11s 4ms/step - loss: 3.4673 - accuracy: 0.8571 - val_loss: 3.3828 - val_accuracy: 0.5057\n",
            "\n",
            "Epoch 00004: val_loss improved from 4.42362 to 3.38280, saving model to Exp8v2p1run1.hdf5\n",
            "Epoch 5/30\n",
            "2865/2865 [==============================] - 11s 4ms/step - loss: 2.6227 - accuracy: 0.8688 - val_loss: 2.7623 - val_accuracy: 0.5185\n",
            "\n",
            "Epoch 00005: val_loss improved from 3.38280 to 2.76231, saving model to Exp8v2p1run1.hdf5\n",
            "Epoch 6/30\n",
            "2865/2865 [==============================] - 11s 4ms/step - loss: 2.1359 - accuracy: 0.8777 - val_loss: 2.4182 - val_accuracy: 0.5078\n",
            "\n",
            "Epoch 00006: val_loss improved from 2.76231 to 2.41817, saving model to Exp8v2p1run1.hdf5\n",
            "Epoch 7/30\n",
            "2865/2865 [==============================] - 11s 4ms/step - loss: 1.7851 - accuracy: 0.8853 - val_loss: 2.1435 - val_accuracy: 0.5028\n",
            "\n",
            "Epoch 00007: val_loss improved from 2.41817 to 2.14349, saving model to Exp8v2p1run1.hdf5\n",
            "Epoch 8/30\n",
            "2865/2865 [==============================] - 11s 4ms/step - loss: 1.5057 - accuracy: 0.9017 - val_loss: 1.9510 - val_accuracy: 0.5000\n",
            "\n",
            "Epoch 00008: val_loss improved from 2.14349 to 1.95103, saving model to Exp8v2p1run1.hdf5\n",
            "Epoch 9/30\n",
            "2865/2865 [==============================] - 11s 4ms/step - loss: 1.2930 - accuracy: 0.9058 - val_loss: 1.6775 - val_accuracy: 0.5263\n",
            "\n",
            "Epoch 00009: val_loss improved from 1.95103 to 1.67750, saving model to Exp8v2p1run1.hdf5\n",
            "Epoch 10/30\n",
            "2865/2865 [==============================] - 11s 4ms/step - loss: 1.1301 - accuracy: 0.9094 - val_loss: 1.7867 - val_accuracy: 0.4766\n",
            "\n",
            "Epoch 00010: val_loss did not improve from 1.67750\n",
            "Epoch 11/30\n",
            "2865/2865 [==============================] - 11s 4ms/step - loss: 1.0026 - accuracy: 0.9056 - val_loss: 1.4663 - val_accuracy: 0.5078\n",
            "\n",
            "Epoch 00011: val_loss improved from 1.67750 to 1.46630, saving model to Exp8v2p1run1.hdf5\n",
            "Epoch 12/30\n",
            "2865/2865 [==============================] - 11s 4ms/step - loss: 0.8856 - accuracy: 0.9152 - val_loss: 1.3520 - val_accuracy: 0.5192\n",
            "\n",
            "Epoch 00012: val_loss improved from 1.46630 to 1.35200, saving model to Exp8v2p1run1.hdf5\n",
            "Epoch 13/30\n",
            "2865/2865 [==============================] - 11s 4ms/step - loss: 0.7944 - accuracy: 0.9178 - val_loss: 1.1534 - val_accuracy: 0.6186\n",
            "\n",
            "Epoch 00013: val_loss improved from 1.35200 to 1.15337, saving model to Exp8v2p1run1.hdf5\n",
            "Epoch 14/30\n",
            "2865/2865 [==============================] - 11s 4ms/step - loss: 0.7264 - accuracy: 0.9154 - val_loss: 1.2163 - val_accuracy: 0.5206\n",
            "\n",
            "Epoch 00014: val_loss did not improve from 1.15337\n",
            "Epoch 15/30\n",
            "2865/2865 [==============================] - 11s 4ms/step - loss: 0.6540 - accuracy: 0.9216 - val_loss: 1.1047 - val_accuracy: 0.5582\n",
            "\n",
            "Epoch 00015: val_loss improved from 1.15337 to 1.10469, saving model to Exp8v2p1run1.hdf5\n",
            "Epoch 16/30\n",
            "2865/2865 [==============================] - 11s 4ms/step - loss: 0.6125 - accuracy: 0.9220 - val_loss: 1.2962 - val_accuracy: 0.4908\n",
            "\n",
            "Epoch 00016: val_loss did not improve from 1.10469\n",
            "Epoch 17/30\n",
            "2865/2865 [==============================] - 11s 4ms/step - loss: 0.5597 - accuracy: 0.9230 - val_loss: 1.0196 - val_accuracy: 0.5810\n",
            "\n",
            "Epoch 00017: val_loss improved from 1.10469 to 1.01956, saving model to Exp8v2p1run1.hdf5\n",
            "Epoch 18/30\n",
            "2865/2865 [==============================] - 11s 4ms/step - loss: 0.5085 - accuracy: 0.9328 - val_loss: 0.9539 - val_accuracy: 0.6072\n",
            "\n",
            "Epoch 00018: val_loss improved from 1.01956 to 0.95394, saving model to Exp8v2p1run1.hdf5\n",
            "Epoch 19/30\n",
            "2865/2865 [==============================] - 11s 4ms/step - loss: 0.4800 - accuracy: 0.9354 - val_loss: 1.0664 - val_accuracy: 0.5263\n",
            "\n",
            "Epoch 00019: val_loss did not improve from 0.95394\n",
            "Epoch 20/30\n",
            "2865/2865 [==============================] - 11s 4ms/step - loss: 0.4362 - accuracy: 0.9414 - val_loss: 0.9111 - val_accuracy: 0.6143\n",
            "\n",
            "Epoch 00020: val_loss improved from 0.95394 to 0.91105, saving model to Exp8v2p1run1.hdf5\n",
            "Epoch 21/30\n",
            "2865/2865 [==============================] - 11s 4ms/step - loss: 0.4166 - accuracy: 0.9384 - val_loss: 1.0104 - val_accuracy: 0.5256\n",
            "\n",
            "Epoch 00021: val_loss did not improve from 0.91105\n",
            "Epoch 22/30\n",
            "2865/2865 [==============================] - 11s 4ms/step - loss: 0.3976 - accuracy: 0.9337 - val_loss: 0.9816 - val_accuracy: 0.5263\n",
            "\n",
            "Epoch 00022: val_loss did not improve from 0.91105\n",
            "Epoch 23/30\n",
            "2865/2865 [==============================] - 11s 4ms/step - loss: 0.3827 - accuracy: 0.9351 - val_loss: 0.8498 - val_accuracy: 0.6229\n",
            "\n",
            "Epoch 00023: val_loss improved from 0.91105 to 0.84982, saving model to Exp8v2p1run1.hdf5\n",
            "Epoch 24/30\n",
            "2865/2865 [==============================] - 11s 4ms/step - loss: 0.3577 - accuracy: 0.9436 - val_loss: 0.8736 - val_accuracy: 0.5966\n",
            "\n",
            "Epoch 00024: val_loss did not improve from 0.84982\n",
            "Epoch 25/30\n",
            "2865/2865 [==============================] - 11s 4ms/step - loss: 0.3504 - accuracy: 0.9372 - val_loss: 0.8305 - val_accuracy: 0.6072\n",
            "\n",
            "Epoch 00025: val_loss improved from 0.84982 to 0.83049, saving model to Exp8v2p1run1.hdf5\n",
            "Epoch 26/30\n",
            "2865/2865 [==============================] - 11s 4ms/step - loss: 0.3344 - accuracy: 0.9368 - val_loss: 0.7572 - val_accuracy: 0.6811\n",
            "\n",
            "Epoch 00026: val_loss improved from 0.83049 to 0.75721, saving model to Exp8v2p1run1.hdf5\n",
            "Epoch 27/30\n",
            "2865/2865 [==============================] - 11s 4ms/step - loss: 0.3161 - accuracy: 0.9468 - val_loss: 0.7971 - val_accuracy: 0.6328\n",
            "\n",
            "Epoch 00027: val_loss did not improve from 0.75721\n",
            "Epoch 28/30\n",
            "2865/2865 [==============================] - 11s 4ms/step - loss: 0.3100 - accuracy: 0.9435 - val_loss: 0.8774 - val_accuracy: 0.5888\n",
            "\n",
            "Epoch 00028: val_loss did not improve from 0.75721\n",
            "Epoch 29/30\n",
            "2865/2865 [==============================] - 11s 4ms/step - loss: 0.2944 - accuracy: 0.9483 - val_loss: 0.7964 - val_accuracy: 0.6349\n",
            "\n",
            "Epoch 00029: val_loss did not improve from 0.75721\n",
            "Epoch 30/30\n",
            "2865/2865 [==============================] - 11s 4ms/step - loss: 0.2875 - accuracy: 0.9454 - val_loss: 0.7521 - val_accuracy: 0.6662\n",
            "\n",
            "Epoch 00030: val_loss improved from 0.75721 to 0.75212, saving model to Exp8v2p1run1.hdf5\n"
          ],
          "name": "stdout"
        }
      ]
    },
    {
      "cell_type": "code",
      "metadata": {
        "id": "JRO-_A-CZbmG",
        "colab_type": "code",
        "colab": {}
      },
      "source": [
        "if self_sup == True:\n",
        "    cp2 = ModelCheckpoint(filepath= file_name + 'run2.hdf5', verbose=1, monitor='val_loss', save_best_only=True)"
      ],
      "execution_count": null,
      "outputs": []
    },
    {
      "cell_type": "code",
      "metadata": {
        "id": "OXzQOD_QPu0z",
        "colab_type": "code",
        "colab": {
          "base_uri": "https://localhost:8080/",
          "height": 1000
        },
        "outputId": "bbc371c6-50ec-4eac-8d3e-00caedd7d1bc"
      },
      "source": [
        "if self_sup == True:\n",
        "    #Fine tuning\n",
        "\n",
        "    from keras.models import load_model\n",
        "\n",
        "    for layer in model.layers:\n",
        "      layer.trainable = True\n",
        "\n",
        "    from keras.optimizers import SGD\n",
        "    model.compile(optimizer=SGD(lr=0.00001, momentum=0.9), loss='binary_crossentropy', metrics=[\"accuracy\"])\n",
        "\n",
        "    hist2 = model.fit(x=train_img,y=y_train, batch_size=4, epochs=30, validation_data=(test_img, y_test), callbacks=[cp2], verbose=1)"
      ],
      "execution_count": null,
      "outputs": [
        {
          "output_type": "stream",
          "text": [
            "Train on 2865 samples, validate on 704 samples\n",
            "Epoch 1/30\n",
            "2865/2865 [==============================] - 125s 44ms/step - loss: 0.5548 - accuracy: 0.8147 - val_loss: 1.5277 - val_accuracy: 0.5128\n",
            "\n",
            "Epoch 00001: val_loss improved from inf to 1.52769, saving model to Exp8v2p1run2.hdf5\n",
            "Epoch 2/30\n",
            "2865/2865 [==============================] - 97s 34ms/step - loss: 0.5459 - accuracy: 0.8227 - val_loss: 0.6312 - val_accuracy: 0.7763\n",
            "\n",
            "Epoch 00002: val_loss improved from 1.52769 to 0.63122, saving model to Exp8v2p1run2.hdf5\n",
            "Epoch 3/30\n",
            "2865/2865 [==============================] - 95s 33ms/step - loss: 0.5142 - accuracy: 0.8366 - val_loss: 0.6880 - val_accuracy: 0.7528\n",
            "\n",
            "Epoch 00003: val_loss did not improve from 0.63122\n",
            "Epoch 4/30\n",
            "2865/2865 [==============================] - 95s 33ms/step - loss: 0.5017 - accuracy: 0.8372 - val_loss: 0.5132 - val_accuracy: 0.8281\n",
            "\n",
            "Epoch 00004: val_loss improved from 0.63122 to 0.51322, saving model to Exp8v2p1run2.hdf5\n",
            "Epoch 5/30\n",
            "2865/2865 [==============================] - 96s 33ms/step - loss: 0.4788 - accuracy: 0.8468 - val_loss: 0.7447 - val_accuracy: 0.7401\n",
            "\n",
            "Epoch 00005: val_loss did not improve from 0.51322\n",
            "Epoch 6/30\n",
            "2865/2865 [==============================] - 95s 33ms/step - loss: 0.4603 - accuracy: 0.8543 - val_loss: 0.4943 - val_accuracy: 0.8310\n",
            "\n",
            "Epoch 00006: val_loss improved from 0.51322 to 0.49430, saving model to Exp8v2p1run2.hdf5\n",
            "Epoch 7/30\n",
            "2865/2865 [==============================] - 95s 33ms/step - loss: 0.4420 - accuracy: 0.8689 - val_loss: 0.4503 - val_accuracy: 0.8665\n",
            "\n",
            "Epoch 00007: val_loss improved from 0.49430 to 0.45033, saving model to Exp8v2p1run2.hdf5\n",
            "Epoch 8/30\n",
            "2865/2865 [==============================] - 95s 33ms/step - loss: 0.4520 - accuracy: 0.8621 - val_loss: 0.7953 - val_accuracy: 0.7294\n",
            "\n",
            "Epoch 00008: val_loss did not improve from 0.45033\n",
            "Epoch 9/30\n",
            "2865/2865 [==============================] - 96s 33ms/step - loss: 0.4287 - accuracy: 0.8672 - val_loss: 0.5098 - val_accuracy: 0.8374\n",
            "\n",
            "Epoch 00009: val_loss did not improve from 0.45033\n",
            "Epoch 10/30\n",
            "2865/2865 [==============================] - 95s 33ms/step - loss: 0.4075 - accuracy: 0.8873 - val_loss: 0.4475 - val_accuracy: 0.8651\n",
            "\n",
            "Epoch 00010: val_loss improved from 0.45033 to 0.44751, saving model to Exp8v2p1run2.hdf5\n",
            "Epoch 11/30\n",
            "2865/2865 [==============================] - 95s 33ms/step - loss: 0.4167 - accuracy: 0.8815 - val_loss: 0.4986 - val_accuracy: 0.8331\n",
            "\n",
            "Epoch 00011: val_loss did not improve from 0.44751\n",
            "Epoch 12/30\n",
            "2865/2865 [==============================] - 95s 33ms/step - loss: 0.4184 - accuracy: 0.8766 - val_loss: 0.4732 - val_accuracy: 0.8509\n",
            "\n",
            "Epoch 00012: val_loss did not improve from 0.44751\n",
            "Epoch 13/30\n",
            "2865/2865 [==============================] - 95s 33ms/step - loss: 0.4108 - accuracy: 0.8810 - val_loss: 0.4520 - val_accuracy: 0.8622\n",
            "\n",
            "Epoch 00013: val_loss did not improve from 0.44751\n",
            "Epoch 14/30\n",
            "2865/2865 [==============================] - 95s 33ms/step - loss: 0.4042 - accuracy: 0.8789 - val_loss: 0.4210 - val_accuracy: 0.8700\n",
            "\n",
            "Epoch 00014: val_loss improved from 0.44751 to 0.42097, saving model to Exp8v2p1run2.hdf5\n",
            "Epoch 15/30\n",
            "2865/2865 [==============================] - 96s 33ms/step - loss: 0.3870 - accuracy: 0.8887 - val_loss: 0.5152 - val_accuracy: 0.8402\n",
            "\n",
            "Epoch 00015: val_loss did not improve from 0.42097\n",
            "Epoch 16/30\n",
            "2865/2865 [==============================] - 94s 33ms/step - loss: 0.3777 - accuracy: 0.8944 - val_loss: 0.4392 - val_accuracy: 0.8679\n",
            "\n",
            "Epoch 00016: val_loss did not improve from 0.42097\n",
            "Epoch 17/30\n",
            "2865/2865 [==============================] - 93s 33ms/step - loss: 0.3635 - accuracy: 0.8958 - val_loss: 0.4569 - val_accuracy: 0.8544\n",
            "\n",
            "Epoch 00017: val_loss did not improve from 0.42097\n",
            "Epoch 18/30\n",
            "2865/2865 [==============================] - 94s 33ms/step - loss: 0.3548 - accuracy: 0.8963 - val_loss: 0.4005 - val_accuracy: 0.8814\n",
            "\n",
            "Epoch 00018: val_loss improved from 0.42097 to 0.40052, saving model to Exp8v2p1run2.hdf5\n",
            "Epoch 19/30\n",
            "2865/2865 [==============================] - 93s 33ms/step - loss: 0.3538 - accuracy: 0.9002 - val_loss: 0.4042 - val_accuracy: 0.8757\n",
            "\n",
            "Epoch 00019: val_loss did not improve from 0.40052\n",
            "Epoch 20/30\n",
            "2865/2865 [==============================] - 93s 32ms/step - loss: 0.3540 - accuracy: 0.9002 - val_loss: 0.3735 - val_accuracy: 0.8842\n",
            "\n",
            "Epoch 00020: val_loss improved from 0.40052 to 0.37349, saving model to Exp8v2p1run2.hdf5\n",
            "Epoch 21/30\n",
            "2865/2865 [==============================] - 94s 33ms/step - loss: 0.3477 - accuracy: 0.9084 - val_loss: 0.4670 - val_accuracy: 0.8530\n",
            "\n",
            "Epoch 00021: val_loss did not improve from 0.37349\n",
            "Epoch 22/30\n",
            "2865/2865 [==============================] - 94s 33ms/step - loss: 0.3410 - accuracy: 0.9115 - val_loss: 0.4272 - val_accuracy: 0.8672\n",
            "\n",
            "Epoch 00022: val_loss did not improve from 0.37349\n",
            "Epoch 23/30\n",
            "2865/2865 [==============================] - 94s 33ms/step - loss: 0.3208 - accuracy: 0.9195 - val_loss: 0.3573 - val_accuracy: 0.9134\n",
            "\n",
            "Epoch 00023: val_loss improved from 0.37349 to 0.35727, saving model to Exp8v2p1run2.hdf5\n",
            "Epoch 24/30\n",
            "2865/2865 [==============================] - 94s 33ms/step - loss: 0.3383 - accuracy: 0.9115 - val_loss: 0.4043 - val_accuracy: 0.8771\n",
            "\n",
            "Epoch 00024: val_loss did not improve from 0.35727\n",
            "Epoch 25/30\n",
            "2865/2865 [==============================] - 95s 33ms/step - loss: 0.3143 - accuracy: 0.9216 - val_loss: 0.4081 - val_accuracy: 0.8707\n",
            "\n",
            "Epoch 00025: val_loss did not improve from 0.35727\n",
            "Epoch 26/30\n",
            "2865/2865 [==============================] - 93s 32ms/step - loss: 0.3103 - accuracy: 0.9298 - val_loss: 0.3960 - val_accuracy: 0.8757\n",
            "\n",
            "Epoch 00026: val_loss did not improve from 0.35727\n",
            "Epoch 27/30\n",
            "2865/2865 [==============================] - 93s 33ms/step - loss: 0.3014 - accuracy: 0.9265 - val_loss: 0.5170 - val_accuracy: 0.8430\n",
            "\n",
            "Epoch 00027: val_loss did not improve from 0.35727\n",
            "Epoch 28/30\n",
            "2865/2865 [==============================] - 95s 33ms/step - loss: 0.2950 - accuracy: 0.9328 - val_loss: 0.4102 - val_accuracy: 0.8743\n",
            "\n",
            "Epoch 00028: val_loss did not improve from 0.35727\n",
            "Epoch 29/30\n",
            "2865/2865 [==============================] - 94s 33ms/step - loss: 0.3010 - accuracy: 0.9290 - val_loss: 0.3599 - val_accuracy: 0.8942\n",
            "\n",
            "Epoch 00029: val_loss did not improve from 0.35727\n",
            "Epoch 30/30\n",
            "2865/2865 [==============================] - 94s 33ms/step - loss: 0.2977 - accuracy: 0.9269 - val_loss: 0.3766 - val_accuracy: 0.8899\n",
            "\n",
            "Epoch 00030: val_loss did not improve from 0.35727\n"
          ],
          "name": "stdout"
        }
      ]
    },
    {
      "cell_type": "code",
      "metadata": {
        "id": "KEUHa08490On",
        "colab_type": "code",
        "colab": {}
      },
      "source": [
        "if self_sup == True:\n",
        "    #learning rate decay\n",
        "    \n",
        "    lr = ReduceLROnPlateau(monitor='val_loss', factor=0.1, patience=5)\n",
        "    cp3 = ModelCheckpoint(filepath= file_name + '_run3.hdf5', verbose=1, monitor='val_loss', save_best_only=True)"
      ],
      "execution_count": null,
      "outputs": []
    },
    {
      "cell_type": "code",
      "metadata": {
        "id": "PCPO7ly9bBD4",
        "colab_type": "code",
        "colab": {
          "base_uri": "https://localhost:8080/",
          "height": 1000
        },
        "outputId": "447e4dc5-b7ce-4327-e78e-cbda6e5a3e6e"
      },
      "source": [
        "if self_sup == True:\n",
        "    model.compile(optimizer=SGD(lr=0.000001), loss='binary_crossentropy', metrics=[\"accuracy\"])\n",
        "\n",
        "    hist3 = model.fit(x=train_img,y=y_train, batch_size=4, epochs=30, validation_data=(test_img, y_test), callbacks=[cp3], verbose=1)"
      ],
      "execution_count": null,
      "outputs": [
        {
          "output_type": "stream",
          "text": [
            "Train on 2865 samples, validate on 704 samples\n",
            "Epoch 1/30\n",
            "2865/2865 [==============================] - 124s 43ms/step - loss: 0.2900 - accuracy: 0.9321 - val_loss: 0.3530 - val_accuracy: 0.9048\n",
            "\n",
            "Epoch 00001: val_loss improved from inf to 0.35299, saving model to Exp8v2p1_run3.hdf5\n",
            "Epoch 2/30\n",
            "2865/2865 [==============================] - 95s 33ms/step - loss: 0.2845 - accuracy: 0.9372 - val_loss: 0.3499 - val_accuracy: 0.9027\n",
            "\n",
            "Epoch 00002: val_loss improved from 0.35299 to 0.34988, saving model to Exp8v2p1_run3.hdf5\n",
            "Epoch 3/30\n",
            "2865/2865 [==============================] - 94s 33ms/step - loss: 0.2890 - accuracy: 0.9312 - val_loss: 0.3492 - val_accuracy: 0.9070\n",
            "\n",
            "Epoch 00003: val_loss improved from 0.34988 to 0.34918, saving model to Exp8v2p1_run3.hdf5\n",
            "Epoch 4/30\n",
            "2865/2865 [==============================] - 95s 33ms/step - loss: 0.2973 - accuracy: 0.9333 - val_loss: 0.3568 - val_accuracy: 0.8963\n",
            "\n",
            "Epoch 00004: val_loss did not improve from 0.34918\n",
            "Epoch 5/30\n",
            "2865/2865 [==============================] - 94s 33ms/step - loss: 0.2887 - accuracy: 0.9333 - val_loss: 0.3479 - val_accuracy: 0.9070\n",
            "\n",
            "Epoch 00005: val_loss improved from 0.34918 to 0.34789, saving model to Exp8v2p1_run3.hdf5\n",
            "Epoch 6/30\n",
            "2865/2865 [==============================] - 97s 34ms/step - loss: 0.2892 - accuracy: 0.9330 - val_loss: 0.3501 - val_accuracy: 0.9112\n",
            "\n",
            "Epoch 00006: val_loss did not improve from 0.34789\n",
            "Epoch 7/30\n",
            "2865/2865 [==============================] - 96s 34ms/step - loss: 0.2755 - accuracy: 0.9457 - val_loss: 0.3536 - val_accuracy: 0.9013\n",
            "\n",
            "Epoch 00007: val_loss did not improve from 0.34789\n",
            "Epoch 8/30\n",
            "2865/2865 [==============================] - 97s 34ms/step - loss: 0.3003 - accuracy: 0.9314 - val_loss: 0.3521 - val_accuracy: 0.9062\n",
            "\n",
            "Epoch 00008: val_loss did not improve from 0.34789\n",
            "Epoch 9/30\n",
            "2865/2865 [==============================] - 97s 34ms/step - loss: 0.2950 - accuracy: 0.9302 - val_loss: 0.3514 - val_accuracy: 0.9013\n",
            "\n",
            "Epoch 00009: val_loss did not improve from 0.34789\n",
            "Epoch 10/30\n",
            "2865/2865 [==============================] - 97s 34ms/step - loss: 0.2894 - accuracy: 0.9339 - val_loss: 0.3519 - val_accuracy: 0.9062\n",
            "\n",
            "Epoch 00010: val_loss did not improve from 0.34789\n",
            "Epoch 11/30\n",
            "2865/2865 [==============================] - 96s 33ms/step - loss: 0.2970 - accuracy: 0.9300 - val_loss: 0.3535 - val_accuracy: 0.9027\n",
            "\n",
            "Epoch 00011: val_loss did not improve from 0.34789\n",
            "Epoch 12/30\n",
            "2865/2865 [==============================] - 96s 33ms/step - loss: 0.2899 - accuracy: 0.9333 - val_loss: 0.3490 - val_accuracy: 0.9048\n",
            "\n",
            "Epoch 00012: val_loss did not improve from 0.34789\n",
            "Epoch 13/30\n",
            "2865/2865 [==============================] - 96s 33ms/step - loss: 0.2777 - accuracy: 0.9373 - val_loss: 0.3482 - val_accuracy: 0.9013\n",
            "\n",
            "Epoch 00013: val_loss did not improve from 0.34789\n",
            "Epoch 14/30\n",
            "2865/2865 [==============================] - 98s 34ms/step - loss: 0.2872 - accuracy: 0.9398 - val_loss: 0.3545 - val_accuracy: 0.8949\n",
            "\n",
            "Epoch 00014: val_loss did not improve from 0.34789\n",
            "Epoch 15/30\n",
            "2865/2865 [==============================] - 97s 34ms/step - loss: 0.2842 - accuracy: 0.9373 - val_loss: 0.3532 - val_accuracy: 0.9020\n",
            "\n",
            "Epoch 00015: val_loss did not improve from 0.34789\n",
            "Epoch 16/30\n",
            "2865/2865 [==============================] - 97s 34ms/step - loss: 0.2927 - accuracy: 0.9321 - val_loss: 0.3511 - val_accuracy: 0.9062\n",
            "\n",
            "Epoch 00016: val_loss did not improve from 0.34789\n",
            "Epoch 17/30\n",
            "2865/2865 [==============================] - 99s 35ms/step - loss: 0.2807 - accuracy: 0.9354 - val_loss: 0.3495 - val_accuracy: 0.9034\n",
            "\n",
            "Epoch 00017: val_loss did not improve from 0.34789\n",
            "Epoch 18/30\n",
            "2865/2865 [==============================] - 98s 34ms/step - loss: 0.2837 - accuracy: 0.9363 - val_loss: 0.3536 - val_accuracy: 0.8984\n",
            "\n",
            "Epoch 00018: val_loss did not improve from 0.34789\n",
            "Epoch 19/30\n",
            "2865/2865 [==============================] - 97s 34ms/step - loss: 0.2884 - accuracy: 0.9346 - val_loss: 0.3552 - val_accuracy: 0.8984\n",
            "\n",
            "Epoch 00019: val_loss did not improve from 0.34789\n",
            "Epoch 20/30\n",
            "2865/2865 [==============================] - 97s 34ms/step - loss: 0.2835 - accuracy: 0.9382 - val_loss: 0.3524 - val_accuracy: 0.9027\n",
            "\n",
            "Epoch 00020: val_loss did not improve from 0.34789\n",
            "Epoch 21/30\n",
            "2865/2865 [==============================] - 97s 34ms/step - loss: 0.2839 - accuracy: 0.9328 - val_loss: 0.3511 - val_accuracy: 0.9062\n",
            "\n",
            "Epoch 00021: val_loss did not improve from 0.34789\n",
            "Epoch 22/30\n",
            "2865/2865 [==============================] - 98s 34ms/step - loss: 0.2792 - accuracy: 0.9435 - val_loss: 0.3478 - val_accuracy: 0.9048\n",
            "\n",
            "Epoch 00022: val_loss improved from 0.34789 to 0.34781, saving model to Exp8v2p1_run3.hdf5\n",
            "Epoch 23/30\n",
            "2865/2865 [==============================] - 101s 35ms/step - loss: 0.2738 - accuracy: 0.9447 - val_loss: 0.3560 - val_accuracy: 0.9013\n",
            "\n",
            "Epoch 00023: val_loss did not improve from 0.34781\n",
            "Epoch 24/30\n",
            "2865/2865 [==============================] - 100s 35ms/step - loss: 0.2786 - accuracy: 0.9401 - val_loss: 0.3528 - val_accuracy: 0.9013\n",
            "\n",
            "Epoch 00024: val_loss did not improve from 0.34781\n",
            "Epoch 25/30\n",
            "2865/2865 [==============================] - 100s 35ms/step - loss: 0.2862 - accuracy: 0.9379 - val_loss: 0.3465 - val_accuracy: 0.9084\n",
            "\n",
            "Epoch 00025: val_loss improved from 0.34781 to 0.34650, saving model to Exp8v2p1_run3.hdf5\n",
            "Epoch 26/30\n",
            "2865/2865 [==============================] - 100s 35ms/step - loss: 0.2926 - accuracy: 0.9311 - val_loss: 0.3490 - val_accuracy: 0.9034\n",
            "\n",
            "Epoch 00026: val_loss did not improve from 0.34650\n",
            "Epoch 27/30\n",
            "2865/2865 [==============================] - 100s 35ms/step - loss: 0.2757 - accuracy: 0.9417 - val_loss: 0.3489 - val_accuracy: 0.9084\n",
            "\n",
            "Epoch 00027: val_loss did not improve from 0.34650\n",
            "Epoch 28/30\n",
            "2865/2865 [==============================] - 99s 35ms/step - loss: 0.2773 - accuracy: 0.9407 - val_loss: 0.3482 - val_accuracy: 0.9055\n",
            "\n",
            "Epoch 00028: val_loss did not improve from 0.34650\n",
            "Epoch 29/30\n",
            "2865/2865 [==============================] - 99s 35ms/step - loss: 0.2783 - accuracy: 0.9431 - val_loss: 0.3501 - val_accuracy: 0.9055\n",
            "\n",
            "Epoch 00029: val_loss did not improve from 0.34650\n",
            "Epoch 30/30\n",
            "2865/2865 [==============================] - 99s 34ms/step - loss: 0.2940 - accuracy: 0.9311 - val_loss: 0.3528 - val_accuracy: 0.9070\n",
            "\n",
            "Epoch 00030: val_loss did not improve from 0.34650\n"
          ],
          "name": "stdout"
        }
      ]
    },
    {
      "cell_type": "code",
      "metadata": {
        "id": "VFFXAfOpWQ_C",
        "colab_type": "code",
        "colab": {}
      },
      "source": [
        "#Try on benign vs malignant"
      ],
      "execution_count": null,
      "outputs": []
    },
    {
      "cell_type": "code",
      "metadata": {
        "id": "T23Wi6ToXHIg",
        "colab_type": "code",
        "colab": {}
      },
      "source": [
        "#code prep\n",
        "\n",
        "mass_train_img = mass_train_img.astype('float64') / 65535\n",
        "mass_test_img = mass_test_img.astype('float64') / 65535"
      ],
      "execution_count": null,
      "outputs": []
    },
    {
      "cell_type": "code",
      "metadata": {
        "id": "7d_UjyirXyG_",
        "colab_type": "code",
        "colab": {
          "base_uri": "https://localhost:8080/",
          "height": 35
        },
        "outputId": "3d8d284c-a856-4998-dd38-b27d9d8ca386"
      },
      "source": [
        "with open('train_classes.txt') as file:\n",
        "    labels = file.readlines()\n",
        "\n",
        "train_classes = [x.strip() for x in labels]   \n",
        "\n",
        "with open('test_classes.txt') as file:\n",
        "    labels = file.readlines()\n",
        "\n",
        "test_classes = [x.strip() for x in labels]\n",
        "\n",
        "train_cl = []\n",
        "for i in range(len(train_classes)):\n",
        "   if train_classes[i] == 'MALIGNANT':\n",
        "       train_cl.append(1)\n",
        "   else:\n",
        "       train_cl.append(0)    \n",
        "\n",
        "test_cl = []\n",
        "for i in range(len(test_classes)):\n",
        "   if test_classes[i] == 'MALIGNANT':\n",
        "       test_cl.append(1)\n",
        "   else:\n",
        "       test_cl.append(0)   \n",
        "\n",
        "train_cl = np.array(train_cl)\n",
        "test_cl = np.array(test_cl)       \n",
        "\n",
        "train_cl"
      ],
      "execution_count": null,
      "outputs": [
        {
          "output_type": "execute_result",
          "data": {
            "text/plain": [
              "array([0, 1, 1, ..., 0, 1, 0])"
            ]
          },
          "metadata": {
            "tags": []
          },
          "execution_count": 13
        }
      ]
    },
    {
      "cell_type": "code",
      "metadata": {
        "id": "qkgkD1fDX7wv",
        "colab_type": "code",
        "colab": {}
      },
      "source": [
        "y_train3 = np_utils.to_categorical(train_cl, 2)\n",
        "y_test3 = np_utils.to_categorical(test_cl, 2)"
      ],
      "execution_count": null,
      "outputs": []
    },
    {
      "cell_type": "code",
      "metadata": {
        "id": "mvjhpjcmX08k",
        "colab_type": "code",
        "colab": {}
      },
      "source": [
        "#shuffle\n",
        "\n",
        "train_img, y_train = shuffle(mass_train_img, y_train3)\n",
        "test_img, y_test = shuffle(mass_test_img, y_test3)"
      ],
      "execution_count": null,
      "outputs": []
    },
    {
      "cell_type": "code",
      "metadata": {
        "id": "sYeHgmhZdtep",
        "colab_type": "code",
        "colab": {}
      },
      "source": [
        "lr = ReduceLROnPlateau(monitor='val_loss', factor=0.1, patience=5)\n",
        "cp4 = ModelCheckpoint(filepath= file_name + '_run4.hdf5', verbose=1, monitor='val_accuracy', save_best_only=True)"
      ],
      "execution_count": null,
      "outputs": []
    },
    {
      "cell_type": "code",
      "metadata": {
        "id": "XDh2bgr2eqEc",
        "colab_type": "code",
        "colab": {
          "base_uri": "https://localhost:8080/",
          "height": 1000
        },
        "outputId": "29b44093-fae5-4699-f464-336c3386f676"
      },
      "source": [
        "#benign vs malignant\n",
        "\n",
        "if self_sup == True:\n",
        "    model = load_model(file_name + '_run3.hdf5')\n",
        "\n",
        "for layer in base_model.layers:\n",
        "    layer.trainable = False\n",
        "\n",
        "model.compile(optimizer=keras.optimizers.RMSprop(lr=0.0001), loss='binary_crossentropy', metrics=[\"accuracy\"])\n",
        "\n",
        "\n",
        "hist4 = model.fit(x=train_img,y=y_train, epochs=30, validation_data=(test_img, y_test), callbacks=[cp4], verbose=1)\n"
      ],
      "execution_count": null,
      "outputs": [
        {
          "output_type": "stream",
          "text": [
            "Train on 1319 samples, validate on 378 samples\n",
            "Epoch 1/30\n",
            "1319/1319 [==============================] - 53s 40ms/step - loss: 0.9576 - accuracy: 0.6528 - val_loss: 2.4304 - val_accuracy: 0.6111\n",
            "\n",
            "Epoch 00001: val_accuracy improved from -inf to 0.61111, saving model to Exp8v2p1_run4.hdf5\n",
            "Epoch 2/30\n",
            "1319/1319 [==============================] - 15s 11ms/step - loss: 0.4330 - accuracy: 0.8658 - val_loss: 1.2583 - val_accuracy: 0.6177\n",
            "\n",
            "Epoch 00002: val_accuracy improved from 0.61111 to 0.61772, saving model to Exp8v2p1_run4.hdf5\n",
            "Epoch 3/30\n",
            "1319/1319 [==============================] - 15s 11ms/step - loss: 0.3097 - accuracy: 0.9177 - val_loss: 1.1974 - val_accuracy: 0.5966\n",
            "\n",
            "Epoch 00003: val_accuracy did not improve from 0.61772\n",
            "Epoch 4/30\n",
            "1319/1319 [==============================] - 15s 11ms/step - loss: 0.2209 - accuracy: 0.9617 - val_loss: 1.5036 - val_accuracy: 0.6759\n",
            "\n",
            "Epoch 00004: val_accuracy improved from 0.61772 to 0.67593, saving model to Exp8v2p1_run4.hdf5\n",
            "Epoch 5/30\n",
            "1319/1319 [==============================] - 15s 11ms/step - loss: 0.1719 - accuracy: 0.9784 - val_loss: 2.2422 - val_accuracy: 0.6032\n",
            "\n",
            "Epoch 00005: val_accuracy did not improve from 0.67593\n",
            "Epoch 6/30\n",
            "1319/1319 [==============================] - 15s 11ms/step - loss: 0.1841 - accuracy: 0.9693 - val_loss: 3.6980 - val_accuracy: 0.4907\n",
            "\n",
            "Epoch 00006: val_accuracy did not improve from 0.67593\n",
            "Epoch 7/30\n",
            "1319/1319 [==============================] - 15s 11ms/step - loss: 0.1825 - accuracy: 0.9712 - val_loss: 1.6355 - val_accuracy: 0.6508\n",
            "\n",
            "Epoch 00007: val_accuracy did not improve from 0.67593\n",
            "Epoch 8/30\n",
            "1319/1319 [==============================] - 15s 11ms/step - loss: 0.1456 - accuracy: 0.9769 - val_loss: 1.5322 - val_accuracy: 0.6878\n",
            "\n",
            "Epoch 00008: val_accuracy improved from 0.67593 to 0.68783, saving model to Exp8v2p1_run4.hdf5\n",
            "Epoch 9/30\n",
            "1319/1319 [==============================] - 15s 11ms/step - loss: 0.1411 - accuracy: 0.9784 - val_loss: 1.5164 - val_accuracy: 0.6812\n",
            "\n",
            "Epoch 00009: val_accuracy did not improve from 0.68783\n",
            "Epoch 10/30\n",
            "1319/1319 [==============================] - 15s 11ms/step - loss: 0.1441 - accuracy: 0.9754 - val_loss: 1.9047 - val_accuracy: 0.6693\n",
            "\n",
            "Epoch 00010: val_accuracy did not improve from 0.68783\n",
            "Epoch 11/30\n",
            "1319/1319 [==============================] - 15s 11ms/step - loss: 0.1471 - accuracy: 0.9742 - val_loss: 1.4986 - val_accuracy: 0.6614\n",
            "\n",
            "Epoch 00011: val_accuracy did not improve from 0.68783\n",
            "Epoch 12/30\n",
            "1319/1319 [==============================] - 15s 11ms/step - loss: 0.1103 - accuracy: 0.9856 - val_loss: 1.8252 - val_accuracy: 0.7037\n",
            "\n",
            "Epoch 00012: val_accuracy improved from 0.68783 to 0.70370, saving model to Exp8v2p1_run4.hdf5\n",
            "Epoch 13/30\n",
            "1319/1319 [==============================] - 15s 11ms/step - loss: 0.1079 - accuracy: 0.9810 - val_loss: 1.8827 - val_accuracy: 0.6085\n",
            "\n",
            "Epoch 00013: val_accuracy did not improve from 0.70370\n",
            "Epoch 14/30\n",
            "1319/1319 [==============================] - 15s 11ms/step - loss: 0.0890 - accuracy: 0.9894 - val_loss: 1.5678 - val_accuracy: 0.6905\n",
            "\n",
            "Epoch 00014: val_accuracy did not improve from 0.70370\n",
            "Epoch 15/30\n",
            "1319/1319 [==============================] - 15s 11ms/step - loss: 0.1008 - accuracy: 0.9818 - val_loss: 1.0147 - val_accuracy: 0.6601\n",
            "\n",
            "Epoch 00015: val_accuracy did not improve from 0.70370\n",
            "Epoch 16/30\n",
            "1319/1319 [==============================] - 15s 11ms/step - loss: 0.0818 - accuracy: 0.9856 - val_loss: 1.3975 - val_accuracy: 0.7090\n",
            "\n",
            "Epoch 00016: val_accuracy improved from 0.70370 to 0.70899, saving model to Exp8v2p1_run4.hdf5\n",
            "Epoch 17/30\n",
            "1319/1319 [==============================] - 15s 11ms/step - loss: 0.0778 - accuracy: 0.9875 - val_loss: 2.7031 - val_accuracy: 0.6376\n",
            "\n",
            "Epoch 00017: val_accuracy did not improve from 0.70899\n",
            "Epoch 18/30\n",
            "1319/1319 [==============================] - 15s 11ms/step - loss: 0.0752 - accuracy: 0.9833 - val_loss: 1.0983 - val_accuracy: 0.7156\n",
            "\n",
            "Epoch 00018: val_accuracy improved from 0.70899 to 0.71561, saving model to Exp8v2p1_run4.hdf5\n",
            "Epoch 19/30\n",
            "1319/1319 [==============================] - 15s 11ms/step - loss: 0.0819 - accuracy: 0.9829 - val_loss: 1.3675 - val_accuracy: 0.7196\n",
            "\n",
            "Epoch 00019: val_accuracy improved from 0.71561 to 0.71958, saving model to Exp8v2p1_run4.hdf5\n",
            "Epoch 20/30\n",
            "1319/1319 [==============================] - 15s 11ms/step - loss: 0.0719 - accuracy: 0.9864 - val_loss: 3.1876 - val_accuracy: 0.5370\n",
            "\n",
            "Epoch 00020: val_accuracy did not improve from 0.71958\n",
            "Epoch 21/30\n",
            "1319/1319 [==============================] - 15s 11ms/step - loss: 0.0684 - accuracy: 0.9845 - val_loss: 1.1225 - val_accuracy: 0.7209\n",
            "\n",
            "Epoch 00021: val_accuracy improved from 0.71958 to 0.72090, saving model to Exp8v2p1_run4.hdf5\n",
            "Epoch 22/30\n",
            "1319/1319 [==============================] - 15s 11ms/step - loss: 0.0624 - accuracy: 0.9882 - val_loss: 1.0706 - val_accuracy: 0.6865\n",
            "\n",
            "Epoch 00022: val_accuracy did not improve from 0.72090\n",
            "Epoch 23/30\n",
            "1319/1319 [==============================] - 15s 11ms/step - loss: 0.0611 - accuracy: 0.9886 - val_loss: 1.3949 - val_accuracy: 0.7169\n",
            "\n",
            "Epoch 00023: val_accuracy did not improve from 0.72090\n",
            "Epoch 24/30\n",
            "1319/1319 [==============================] - 15s 11ms/step - loss: 0.0601 - accuracy: 0.9860 - val_loss: 1.7062 - val_accuracy: 0.6098\n",
            "\n",
            "Epoch 00024: val_accuracy did not improve from 0.72090\n",
            "Epoch 25/30\n",
            "1319/1319 [==============================] - 15s 11ms/step - loss: 0.0546 - accuracy: 0.9898 - val_loss: 1.8331 - val_accuracy: 0.6217\n",
            "\n",
            "Epoch 00025: val_accuracy did not improve from 0.72090\n",
            "Epoch 26/30\n",
            "1319/1319 [==============================] - 15s 11ms/step - loss: 0.0604 - accuracy: 0.9882 - val_loss: 1.5341 - val_accuracy: 0.6190\n",
            "\n",
            "Epoch 00026: val_accuracy did not improve from 0.72090\n",
            "Epoch 27/30\n",
            "1319/1319 [==============================] - 15s 11ms/step - loss: 0.0558 - accuracy: 0.9939 - val_loss: 0.9635 - val_accuracy: 0.7262\n",
            "\n",
            "Epoch 00027: val_accuracy improved from 0.72090 to 0.72619, saving model to Exp8v2p1_run4.hdf5\n",
            "Epoch 28/30\n",
            "1319/1319 [==============================] - 15s 11ms/step - loss: 0.0463 - accuracy: 0.9901 - val_loss: 1.1588 - val_accuracy: 0.6852\n",
            "\n",
            "Epoch 00028: val_accuracy did not improve from 0.72619\n",
            "Epoch 29/30\n",
            "1319/1319 [==============================] - 15s 11ms/step - loss: 0.0330 - accuracy: 0.9932 - val_loss: 1.0921 - val_accuracy: 0.6799\n",
            "\n",
            "Epoch 00029: val_accuracy did not improve from 0.72619\n",
            "Epoch 30/30\n",
            "1319/1319 [==============================] - 15s 11ms/step - loss: 0.0334 - accuracy: 0.9928 - val_loss: 1.5574 - val_accuracy: 0.6799\n",
            "\n",
            "Epoch 00030: val_accuracy did not improve from 0.72619\n"
          ],
          "name": "stdout"
        }
      ]
    },
    {
      "cell_type": "code",
      "metadata": {
        "id": "JoWZT1o7ZdxV",
        "colab_type": "code",
        "colab": {
          "base_uri": "https://localhost:8080/",
          "height": 1000
        },
        "outputId": "deeae30f-bb72-47e5-da40-a211349f93a3"
      },
      "source": [
        "cp5 = ModelCheckpoint(filepath= file_name + '_run5.hdf5', verbose=1, monitor='val_accuracy', save_best_only=True)\n",
        "\n",
        "for layer in model.layers:\n",
        "   layer.trainable = True\n",
        "\n",
        "from keras.optimizers import SGD\n",
        "model.compile(optimizer=SGD(lr=0.00001, momentum=0.9), loss='binary_crossentropy', metrics=[\"accuracy\"])\n",
        "\n",
        "hist2 = model.fit(x=train_img,y=y_train, batch_size=4, epochs=30, validation_data=(test_img, y_test), callbacks=[cp5], verbose=1)"
      ],
      "execution_count": null,
      "outputs": [
        {
          "output_type": "stream",
          "text": [
            "Train on 1319 samples, validate on 378 samples\n",
            "Epoch 1/30\n",
            "1319/1319 [==============================] - 81s 61ms/step - loss: 0.4665 - accuracy: 0.8946 - val_loss: 1.5121 - val_accuracy: 0.6693\n",
            "\n",
            "Epoch 00001: val_accuracy improved from -inf to 0.66931, saving model to Exp8v2p1_run5.hdf5\n",
            "Epoch 2/30\n",
            "1319/1319 [==============================] - 47s 36ms/step - loss: 0.3796 - accuracy: 0.9079 - val_loss: 2.0423 - val_accuracy: 0.5542\n",
            "\n",
            "Epoch 00002: val_accuracy did not improve from 0.66931\n",
            "Epoch 3/30\n",
            "1319/1319 [==============================] - 47s 36ms/step - loss: 0.3202 - accuracy: 0.9234 - val_loss: 1.3141 - val_accuracy: 0.7090\n",
            "\n",
            "Epoch 00003: val_accuracy improved from 0.66931 to 0.70899, saving model to Exp8v2p1_run5.hdf5\n",
            "Epoch 4/30\n",
            "1319/1319 [==============================] - 48s 36ms/step - loss: 0.3390 - accuracy: 0.8988 - val_loss: 1.1626 - val_accuracy: 0.6931\n",
            "\n",
            "Epoch 00004: val_accuracy did not improve from 0.70899\n",
            "Epoch 5/30\n",
            "1319/1319 [==============================] - 47s 36ms/step - loss: 0.2294 - accuracy: 0.9303 - val_loss: 1.0929 - val_accuracy: 0.7275\n",
            "\n",
            "Epoch 00005: val_accuracy improved from 0.70899 to 0.72751, saving model to Exp8v2p1_run5.hdf5\n",
            "Epoch 6/30\n",
            "1319/1319 [==============================] - 47s 36ms/step - loss: 0.2535 - accuracy: 0.9242 - val_loss: 1.2883 - val_accuracy: 0.6508\n",
            "\n",
            "Epoch 00006: val_accuracy did not improve from 0.72751\n",
            "Epoch 7/30\n",
            "1319/1319 [==============================] - 47s 35ms/step - loss: 0.2787 - accuracy: 0.9075 - val_loss: 1.0622 - val_accuracy: 0.7116\n",
            "\n",
            "Epoch 00007: val_accuracy did not improve from 0.72751\n",
            "Epoch 8/30\n",
            "1319/1319 [==============================] - 47s 35ms/step - loss: 0.2322 - accuracy: 0.9268 - val_loss: 0.9865 - val_accuracy: 0.7209\n",
            "\n",
            "Epoch 00008: val_accuracy did not improve from 0.72751\n",
            "Epoch 9/30\n",
            "1319/1319 [==============================] - 47s 35ms/step - loss: 0.2480 - accuracy: 0.9177 - val_loss: 0.9020 - val_accuracy: 0.7116\n",
            "\n",
            "Epoch 00009: val_accuracy did not improve from 0.72751\n",
            "Epoch 10/30\n",
            "1319/1319 [==============================] - 47s 36ms/step - loss: 0.2380 - accuracy: 0.9268 - val_loss: 1.0256 - val_accuracy: 0.6931\n",
            "\n",
            "Epoch 00010: val_accuracy did not improve from 0.72751\n",
            "Epoch 11/30\n",
            "1319/1319 [==============================] - 47s 36ms/step - loss: 0.2219 - accuracy: 0.9310 - val_loss: 0.9709 - val_accuracy: 0.7169\n",
            "\n",
            "Epoch 00011: val_accuracy did not improve from 0.72751\n",
            "Epoch 12/30\n",
            "1319/1319 [==============================] - 47s 35ms/step - loss: 0.2223 - accuracy: 0.9177 - val_loss: 0.8781 - val_accuracy: 0.7169\n",
            "\n",
            "Epoch 00012: val_accuracy did not improve from 0.72751\n",
            "Epoch 13/30\n",
            "1319/1319 [==============================] - 46s 35ms/step - loss: 0.2135 - accuracy: 0.9310 - val_loss: 0.9495 - val_accuracy: 0.7169\n",
            "\n",
            "Epoch 00013: val_accuracy did not improve from 0.72751\n",
            "Epoch 14/30\n",
            "1319/1319 [==============================] - 47s 35ms/step - loss: 0.2140 - accuracy: 0.9265 - val_loss: 0.8577 - val_accuracy: 0.7593\n",
            "\n",
            "Epoch 00014: val_accuracy improved from 0.72751 to 0.75926, saving model to Exp8v2p1_run5.hdf5\n",
            "Epoch 15/30\n",
            "1319/1319 [==============================] - 47s 35ms/step - loss: 0.2456 - accuracy: 0.9060 - val_loss: 1.0753 - val_accuracy: 0.6799\n",
            "\n",
            "Epoch 00015: val_accuracy did not improve from 0.75926\n",
            "Epoch 16/30\n",
            "1319/1319 [==============================] - 47s 35ms/step - loss: 0.1794 - accuracy: 0.9318 - val_loss: 0.8645 - val_accuracy: 0.7421\n",
            "\n",
            "Epoch 00016: val_accuracy did not improve from 0.75926\n",
            "Epoch 17/30\n",
            "1319/1319 [==============================] - 47s 35ms/step - loss: 0.1891 - accuracy: 0.9337 - val_loss: 1.1210 - val_accuracy: 0.6667\n",
            "\n",
            "Epoch 00017: val_accuracy did not improve from 0.75926\n",
            "Epoch 18/30\n",
            "1319/1319 [==============================] - 47s 35ms/step - loss: 0.1635 - accuracy: 0.9390 - val_loss: 1.1005 - val_accuracy: 0.6587\n",
            "\n",
            "Epoch 00018: val_accuracy did not improve from 0.75926\n",
            "Epoch 19/30\n",
            "1319/1319 [==============================] - 46s 35ms/step - loss: 0.1792 - accuracy: 0.9340 - val_loss: 0.8963 - val_accuracy: 0.7103\n",
            "\n",
            "Epoch 00019: val_accuracy did not improve from 0.75926\n",
            "Epoch 20/30\n",
            "1319/1319 [==============================] - 46s 35ms/step - loss: 0.1966 - accuracy: 0.9359 - val_loss: 0.7631 - val_accuracy: 0.7619\n",
            "\n",
            "Epoch 00020: val_accuracy improved from 0.75926 to 0.76190, saving model to Exp8v2p1_run5.hdf5\n",
            "Epoch 21/30\n",
            "1319/1319 [==============================] - 47s 35ms/step - loss: 0.1661 - accuracy: 0.9359 - val_loss: 0.8267 - val_accuracy: 0.7302\n",
            "\n",
            "Epoch 00021: val_accuracy did not improve from 0.76190\n",
            "Epoch 22/30\n",
            "1319/1319 [==============================] - 47s 35ms/step - loss: 0.1790 - accuracy: 0.9375 - val_loss: 0.8343 - val_accuracy: 0.7381\n",
            "\n",
            "Epoch 00022: val_accuracy did not improve from 0.76190\n",
            "Epoch 23/30\n",
            "1319/1319 [==============================] - 47s 35ms/step - loss: 0.1799 - accuracy: 0.9257 - val_loss: 0.8024 - val_accuracy: 0.7196\n",
            "\n",
            "Epoch 00023: val_accuracy did not improve from 0.76190\n",
            "Epoch 24/30\n",
            "1319/1319 [==============================] - 47s 36ms/step - loss: 0.1902 - accuracy: 0.9261 - val_loss: 0.8276 - val_accuracy: 0.7063\n",
            "\n",
            "Epoch 00024: val_accuracy did not improve from 0.76190\n",
            "Epoch 25/30\n",
            "1319/1319 [==============================] - 47s 35ms/step - loss: 0.1804 - accuracy: 0.9299 - val_loss: 0.8281 - val_accuracy: 0.7037\n",
            "\n",
            "Epoch 00025: val_accuracy did not improve from 0.76190\n",
            "Epoch 26/30\n",
            "1319/1319 [==============================] - 47s 36ms/step - loss: 0.2338 - accuracy: 0.9033 - val_loss: 0.8783 - val_accuracy: 0.7209\n",
            "\n",
            "Epoch 00026: val_accuracy did not improve from 0.76190\n",
            "Epoch 27/30\n",
            "1319/1319 [==============================] - 47s 36ms/step - loss: 0.1562 - accuracy: 0.9401 - val_loss: 0.8117 - val_accuracy: 0.7354\n",
            "\n",
            "Epoch 00027: val_accuracy did not improve from 0.76190\n",
            "Epoch 28/30\n",
            "1319/1319 [==============================] - 47s 35ms/step - loss: 0.1695 - accuracy: 0.9340 - val_loss: 0.8130 - val_accuracy: 0.7116\n",
            "\n",
            "Epoch 00028: val_accuracy did not improve from 0.76190\n",
            "Epoch 29/30\n",
            "1319/1319 [==============================] - 47s 36ms/step - loss: 0.1465 - accuracy: 0.9488 - val_loss: 0.7979 - val_accuracy: 0.7341\n",
            "\n",
            "Epoch 00029: val_accuracy did not improve from 0.76190\n",
            "Epoch 30/30\n",
            "1319/1319 [==============================] - 47s 35ms/step - loss: 0.1688 - accuracy: 0.9348 - val_loss: 0.7641 - val_accuracy: 0.7341\n",
            "\n",
            "Epoch 00030: val_accuracy did not improve from 0.76190\n"
          ],
          "name": "stdout"
        }
      ]
    },
    {
      "cell_type": "code",
      "metadata": {
        "id": "_WKSF0iDc5CU",
        "colab_type": "code",
        "colab": {
          "base_uri": "https://localhost:8080/",
          "height": 35
        },
        "outputId": "ca178bc0-54ca-45df-878c-3ac5fcb8bc78"
      },
      "source": [
        "total_time = time.clock() - start_time\n",
        "print(total_time)"
      ],
      "execution_count": null,
      "outputs": [
        {
          "output_type": "stream",
          "text": [
            "12716.718787\n"
          ],
          "name": "stdout"
        }
      ]
    },
    {
      "cell_type": "code",
      "metadata": {
        "id": "FDiRZIUbre5O",
        "colab_type": "code",
        "colab": {
          "base_uri": "https://localhost:8080/",
          "height": 255
        },
        "outputId": "3487cc9b-27c1-4e1b-d38e-02f593eb39da"
      },
      "source": [
        "from keras.models import load_model\n",
        "model = load_model(file_name + '_run5.hdf5')"
      ],
      "execution_count": null,
      "outputs": [
        {
          "output_type": "stream",
          "text": [
            "WARNING:tensorflow:From /tensorflow-1.15.2/python3.6/tensorflow_core/python/ops/resource_variable_ops.py:1630: calling BaseResourceVariable.__init__ (from tensorflow.python.ops.resource_variable_ops) with constraint is deprecated and will be removed in a future version.\n",
            "Instructions for updating:\n",
            "If using Keras pass *_constraint arguments to layers.\n",
            "WARNING:tensorflow:From /tensorflow-1.15.2/python3.6/keras/backend/tensorflow_backend.py:4070: The name tf.nn.max_pool is deprecated. Please use tf.nn.max_pool2d instead.\n",
            "\n",
            "WARNING:tensorflow:From /tensorflow-1.15.2/python3.6/keras/backend/tensorflow_backend.py:4074: The name tf.nn.avg_pool is deprecated. Please use tf.nn.avg_pool2d instead.\n",
            "\n",
            "WARNING:tensorflow:From /tensorflow-1.15.2/python3.6/tensorflow_core/python/ops/nn_impl.py:183: where (from tensorflow.python.ops.array_ops) is deprecated and will be removed in a future version.\n",
            "Instructions for updating:\n",
            "Use tf.where in 2.0, which has the same broadcast rule as np.where\n",
            "WARNING:tensorflow:From /tensorflow-1.15.2/python3.6/keras/backend/tensorflow_backend.py:422: The name tf.global_variables is deprecated. Please use tf.compat.v1.global_variables instead.\n",
            "\n"
          ],
          "name": "stdout"
        }
      ]
    },
    {
      "cell_type": "code",
      "metadata": {
        "id": "YNIvy5Gqrt-o",
        "colab_type": "code",
        "colab": {
          "base_uri": "https://localhost:8080/",
          "height": 53
        },
        "outputId": "653bd7a8-1a98-44ca-da8a-2ddbaa8159e8"
      },
      "source": [
        "from sklearn.metrics import confusion_matrix, f1_score, roc_auc_score, accuracy_score\n",
        "\n",
        "probs = model.predict(mass_test_img)\n",
        "y_pred = np.argmax(probs, axis = 1)\n",
        "y_true = np.argmax(y_test3, axis = 1)\n",
        "\n",
        "confusion_matrix(y_true, y_pred)"
      ],
      "execution_count": null,
      "outputs": [
        {
          "output_type": "execute_result",
          "data": {
            "text/plain": [
              "array([[183,  48],\n",
              "       [ 42, 105]])"
            ]
          },
          "metadata": {
            "tags": []
          },
          "execution_count": 16
        }
      ]
    },
    {
      "cell_type": "code",
      "metadata": {
        "id": "6t8uKOBzrz0x",
        "colab_type": "code",
        "colab": {
          "base_uri": "https://localhost:8080/",
          "height": 108
        },
        "outputId": "8af57080-bd9a-4b4d-90f5-34cce3885887"
      },
      "source": [
        "print(f1_score(y_true, y_pred))\n",
        "print()\n",
        "print(roc_auc_score(y_true, y_pred))\n",
        "print()\n",
        "print(accuracy_score(y_true, y_pred))"
      ],
      "execution_count": null,
      "outputs": [
        {
          "output_type": "stream",
          "text": [
            "0.7000000000000001\n",
            "\n",
            "0.7532467532467532\n",
            "\n",
            "0.7619047619047619\n"
          ],
          "name": "stdout"
        }
      ]
    }
  ]
}
