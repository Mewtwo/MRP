{
  "nbformat": 4,
  "nbformat_minor": 0,
  "metadata": {
    "colab": {
      "name": "MRP_Exp4.ipynb",
      "provenance": [],
      "collapsed_sections": [],
      "machine_shape": "hm"
    },
    "kernelspec": {
      "name": "python3",
      "display_name": "Python 3"
    },
    "accelerator": "GPU"
  },
  "cells": [
    {
      "cell_type": "markdown",
      "metadata": {
        "id": "VwG2S40EGvtL",
        "colab_type": "text"
      },
      "source": [
        "First step is to read, and preprocess the data."
      ]
    },
    {
      "cell_type": "code",
      "metadata": {
        "id": "5uyMaADtV-TD",
        "colab_type": "code",
        "colab": {}
      },
      "source": [
        "%tensorflow_version 1.x\n",
        "import tensorflow"
      ],
      "execution_count": null,
      "outputs": []
    },
    {
      "cell_type": "code",
      "metadata": {
        "id": "g6OodPbwEdCv",
        "colab_type": "code",
        "colab": {}
      },
      "source": [
        "#imports\n",
        "import os\n",
        "import time\n",
        "from google.colab import drive\n",
        "import numpy as np\n",
        "import matplotlib as plt\n",
        "from matplotlib import pyplot\n",
        "import pandas as pd\n",
        "\n",
        "# Import keras modules\n",
        "from keras.models import Sequential\n",
        "from keras.layers import Dense\n",
        "\n",
        "import numpy as np\n",
        "import keras\n",
        "from keras import models, layers, Input, regularizers\n",
        "from keras.utils import np_utils\n",
        "from keras.models import Sequential, Model\n",
        "import matplotlib.pyplot as plt\n",
        "from keras.layers import Dense\n",
        "import random\n",
        "random.seed(42)\n",
        "\n",
        "from keras.applications.inception_v3 import InceptionV3\n",
        "from keras.preprocessing import image\n",
        "from keras.models import Model\n",
        "from keras.layers import Dense, GlobalAveragePooling2D\n",
        "from keras.optimizers import SGD\n",
        "from keras import backend as K\n",
        "from keras.callbacks import ReduceLROnPlateau\n",
        "from keras.callbacks import ModelCheckpoint\n",
        "from keras.models import load_model"
      ],
      "execution_count": null,
      "outputs": []
    },
    {
      "cell_type": "code",
      "metadata": {
        "id": "JWi1oI1oG7vQ",
        "colab_type": "code",
        "colab": {
          "base_uri": "https://localhost:8080/",
          "height": 35
        },
        "outputId": "213389e8-fdd8-4842-e74e-5892c6b250c2"
      },
      "source": [
        "drive.mount('/content/drive')\n",
        "os.chdir('/content/drive/My Drive/MRP/Covid-target/self/')"
      ],
      "execution_count": null,
      "outputs": [
        {
          "output_type": "stream",
          "text": [
            "Drive already mounted at /content/drive; to attempt to forcibly remount, call drive.mount(\"/content/drive\", force_remount=True).\n"
          ],
          "name": "stdout"
        }
      ]
    },
    {
      "cell_type": "code",
      "metadata": {
        "id": "bM9lj0p-2ke1",
        "colab_type": "code",
        "colab": {}
      },
      "source": [
        "#Toggles\n",
        "self_sup = True\n",
        "incep = False\n",
        "aug = True\n",
        "saves = False\n",
        "big_arch = 0\n",
        "file_name = \"Exp4v3p1_full\""
      ],
      "execution_count": null,
      "outputs": []
    },
    {
      "cell_type": "code",
      "metadata": {
        "id": "Qk4WjsvTHYPJ",
        "colab_type": "code",
        "colab": {}
      },
      "source": [
        "start_time = time.clock()\n"
      ],
      "execution_count": null,
      "outputs": []
    },
    {
      "cell_type": "code",
      "metadata": {
        "id": "FxkxMXWnquWu",
        "colab_type": "code",
        "colab": {}
      },
      "source": [
        "#I will try Inception, so change H,W\n",
        "if incep == True:\n",
        "    H=299\n",
        "    W=299\n",
        "else:\n",
        "    H=224\n",
        "    W=224\n",
        "\n"
      ],
      "execution_count": null,
      "outputs": []
    },
    {
      "cell_type": "code",
      "metadata": {
        "id": "GDIVkQCU9fK1",
        "colab_type": "code",
        "colab": {}
      },
      "source": [
        "#End of preprocessing"
      ],
      "execution_count": null,
      "outputs": []
    },
    {
      "cell_type": "code",
      "metadata": {
        "id": "qxzuHMpYGuSO",
        "colab_type": "code",
        "colab": {
          "base_uri": "https://localhost:8080/",
          "height": 201
        },
        "outputId": "4d2fc1e8-f309-4a51-81b2-9e8a96dee3e0"
      },
      "source": [
        "if incep == True:\n",
        "    base_model = keras.applications.InceptionV3(\n",
        "        include_top = False,\n",
        "        weights = \"imagenet\")\n",
        "else:\n",
        "    base_model = keras.applications.DenseNet169(\n",
        "        include_top = False,\n",
        "        weights = \"imagenet\")    "
      ],
      "execution_count": null,
      "outputs": [
        {
          "output_type": "stream",
          "text": [
            "WARNING:tensorflow:From /tensorflow-1.15.2/python3.6/tensorflow_core/python/ops/resource_variable_ops.py:1630: calling BaseResourceVariable.__init__ (from tensorflow.python.ops.resource_variable_ops) with constraint is deprecated and will be removed in a future version.\n",
            "Instructions for updating:\n",
            "If using Keras pass *_constraint arguments to layers.\n",
            "WARNING:tensorflow:From /tensorflow-1.15.2/python3.6/keras/backend/tensorflow_backend.py:4070: The name tf.nn.max_pool is deprecated. Please use tf.nn.max_pool2d instead.\n",
            "\n",
            "WARNING:tensorflow:From /tensorflow-1.15.2/python3.6/keras/backend/tensorflow_backend.py:4074: The name tf.nn.avg_pool is deprecated. Please use tf.nn.avg_pool2d instead.\n",
            "\n",
            "Downloading data from https://github.com/keras-team/keras-applications/releases/download/densenet/densenet169_weights_tf_dim_ordering_tf_kernels_notop.h5\n",
            "51879936/51877672 [==============================] - 5s 0us/step\n"
          ],
          "name": "stdout"
        }
      ]
    },
    {
      "cell_type": "markdown",
      "metadata": {
        "id": "9ZoDKuLUOs07",
        "colab_type": "text"
      },
      "source": [
        "Next step is to load the pre-trained model, add our own dense layer on top, and train the dense layer."
      ]
    },
    {
      "cell_type": "code",
      "metadata": {
        "id": "62PZcaIaYcnr",
        "colab_type": "code",
        "colab": {}
      },
      "source": [
        "if self_sup == True:\n",
        "    cp = ModelCheckpoint(filepath= file_name + '_run1.hdf5', verbose=1, monitor='val_loss', save_best_only=True)"
      ],
      "execution_count": null,
      "outputs": []
    },
    {
      "cell_type": "code",
      "metadata": {
        "id": "ltC7tTQ3_uVv",
        "colab_type": "code",
        "colab": {
          "base_uri": "https://localhost:8080/",
          "height": 53
        },
        "outputId": "050621e3-30d0-4548-8af8-1ed0ed011432"
      },
      "source": [
        "if aug == True:\n",
        "    train_datagen = keras.preprocessing.image.ImageDataGenerator(\n",
        "                                                dtype='float64')\n",
        "\n",
        "    #on test, we do not augment, merely preprocess\n",
        "    test_datagen = keras.preprocessing.image.ImageDataGenerator(\n",
        "                                                dtype='float64')\n",
        "    \n",
        "    train_generator = train_datagen.flow_from_directory(\n",
        "        'train',\n",
        "        target_size = (W,H),\n",
        "        class_mode='categorical'\n",
        "    )\n",
        "\n",
        "    test_generator = test_datagen.flow_from_directory(\n",
        "        'test',\n",
        "        target_size = (W,H),\n",
        "        class_mode = 'categorical'\n",
        "    )"
      ],
      "execution_count": null,
      "outputs": [
        {
          "output_type": "stream",
          "text": [
            "Found 1086 images belonging to 2 classes.\n",
            "Found 406 images belonging to 2 classes.\n"
          ],
          "name": "stdout"
        }
      ]
    },
    {
      "cell_type": "code",
      "metadata": {
        "id": "TprHVnfLOrpN",
        "colab_type": "code",
        "colab": {
          "base_uri": "https://localhost:8080/",
          "height": 1000
        },
        "outputId": "0dc0dbbb-1bbf-454a-aeda-41e600f29305"
      },
      "source": [
        "#no fine tuning\n",
        "\n",
        "x = base_model.output\n",
        "x = GlobalAveragePooling2D()(x)\n",
        "\n",
        "if big_arch == 1:\n",
        "    x = layers.BatchNormalization()(x)\n",
        "    x = layers.Dense(1024, activation = 'relu', kernel_regularizer = regularizers.l2(0.01),)(x) #0.05\n",
        "    x = layers.Dropout(0.5)(x)\n",
        "    x = layers.Dense(1024, activation = 'relu', kernel_regularizer = regularizers.l2(0.01),)(x) #0.05\n",
        "    x = layers.Dropout(0.5)(x)    \n",
        "\n",
        "else:\n",
        "    x = layers.BatchNormalization()(x)\n",
        "    x = layers.Dense(1024, activation = 'relu', kernel_regularizer = regularizers.l2(0.01),)(x) #0.05\n",
        "    x = layers.Dropout(0.5)(x)\n",
        "\n",
        "predictions = Dense(2, activation='sigmoid')(x)\n",
        "\n",
        "model = Model(inputs=base_model.input, outputs=predictions)\n",
        "\n",
        "\n",
        "if self_sup == True:\n",
        "    for layer in base_model.layers:\n",
        "        layer.trainable = False\n",
        "\n",
        "    model.compile(optimizer=keras.optimizers.RMSprop(lr=0.0001), loss='binary_crossentropy', metrics=[\"accuracy\"])\n",
        "\n",
        "    if aug == True:\n",
        "        hist = model.fit_generator(train_generator, epochs=30, validation_data=test_generator, callbacks=[cp], verbose=1)\n",
        "    else:\n",
        "        hist1 = model.fit(x=train_img,y = y_train, epochs=30, validation_data=(test_img, y_test), callbacks=[cp], verbose=1)\n",
        "\n"
      ],
      "execution_count": null,
      "outputs": [
        {
          "output_type": "stream",
          "text": [
            "WARNING:tensorflow:From /tensorflow-1.15.2/python3.6/tensorflow_core/python/ops/nn_impl.py:183: where (from tensorflow.python.ops.array_ops) is deprecated and will be removed in a future version.\n",
            "Instructions for updating:\n",
            "Use tf.where in 2.0, which has the same broadcast rule as np.where\n",
            "WARNING:tensorflow:From /tensorflow-1.15.2/python3.6/keras/backend/tensorflow_backend.py:422: The name tf.global_variables is deprecated. Please use tf.compat.v1.global_variables instead.\n",
            "\n",
            "Epoch 1/30\n",
            "12/34 [=========>....................] - ETA: 7:15 - loss: 12.9281 - accuracy: 0.4922"
          ],
          "name": "stdout"
        },
        {
          "output_type": "stream",
          "text": [
            "/tensorflow-1.15.2/python3.6/keras/utils/data_utils.py:616: UserWarning: The input 25 could not be retrieved. It could be because a worker has died.\n",
            "  UserWarning)\n"
          ],
          "name": "stderr"
        },
        {
          "output_type": "stream",
          "text": [
            "34/34 [==============================] - 719s 21s/step - loss: 12.3259 - accuracy: 0.4779 - val_loss: 12.7371 - val_accuracy: 0.5012\n",
            "\n",
            "Epoch 00001: val_loss improved from inf to 12.73712, saving model to Exp4v3p1_full_run1.hdf5\n",
            "Epoch 2/30\n",
            "34/34 [==============================] - 5s 154ms/step - loss: 10.7097 - accuracy: 0.5276 - val_loss: 11.0532 - val_accuracy: 0.5099\n",
            "\n",
            "Epoch 00002: val_loss improved from 12.73712 to 11.05317, saving model to Exp4v3p1_full_run1.hdf5\n",
            "Epoch 3/30\n",
            "34/34 [==============================] - 6s 169ms/step - loss: 9.3799 - accuracy: 0.5272 - val_loss: 10.3665 - val_accuracy: 0.5049\n",
            "\n",
            "Epoch 00003: val_loss improved from 11.05317 to 10.36650, saving model to Exp4v3p1_full_run1.hdf5\n",
            "Epoch 4/30\n",
            "34/34 [==============================] - 6s 171ms/step - loss: 8.2451 - accuracy: 0.5350 - val_loss: 8.8843 - val_accuracy: 0.5074\n",
            "\n",
            "Epoch 00004: val_loss improved from 10.36650 to 8.88426, saving model to Exp4v3p1_full_run1.hdf5\n",
            "Epoch 5/30\n",
            "34/34 [==============================] - 6s 170ms/step - loss: 7.2441 - accuracy: 0.5506 - val_loss: 8.2427 - val_accuracy: 0.5123\n",
            "\n",
            "Epoch 00005: val_loss improved from 8.88426 to 8.24267, saving model to Exp4v3p1_full_run1.hdf5\n",
            "Epoch 6/30\n",
            "34/34 [==============================] - 6s 171ms/step - loss: 6.3989 - accuracy: 0.5856 - val_loss: 7.2188 - val_accuracy: 0.5012\n",
            "\n",
            "Epoch 00006: val_loss improved from 8.24267 to 7.21880, saving model to Exp4v3p1_full_run1.hdf5\n",
            "Epoch 7/30\n",
            "34/34 [==============================] - 6s 168ms/step - loss: 5.6945 - accuracy: 0.5875 - val_loss: 7.6399 - val_accuracy: 0.5074\n",
            "\n",
            "Epoch 00007: val_loss did not improve from 7.21880\n",
            "Epoch 8/30\n",
            "34/34 [==============================] - 6s 181ms/step - loss: 5.0889 - accuracy: 0.6041 - val_loss: 6.1406 - val_accuracy: 0.5099\n",
            "\n",
            "Epoch 00008: val_loss improved from 7.21880 to 6.14063, saving model to Exp4v3p1_full_run1.hdf5\n",
            "Epoch 9/30\n",
            "34/34 [==============================] - 6s 170ms/step - loss: 4.5887 - accuracy: 0.6220 - val_loss: 5.4941 - val_accuracy: 0.5135\n",
            "\n",
            "Epoch 00009: val_loss improved from 6.14063 to 5.49411, saving model to Exp4v3p1_full_run1.hdf5\n",
            "Epoch 10/30\n",
            "34/34 [==============================] - 6s 167ms/step - loss: 4.1815 - accuracy: 0.6515 - val_loss: 5.2871 - val_accuracy: 0.5049\n",
            "\n",
            "Epoch 00010: val_loss improved from 5.49411 to 5.28709, saving model to Exp4v3p1_full_run1.hdf5\n",
            "Epoch 11/30\n",
            "34/34 [==============================] - 6s 168ms/step - loss: 3.8446 - accuracy: 0.6515 - val_loss: 4.6404 - val_accuracy: 0.5037\n",
            "\n",
            "Epoch 00011: val_loss improved from 5.28709 to 4.64038, saving model to Exp4v3p1_full_run1.hdf5\n",
            "Epoch 12/30\n",
            "34/34 [==============================] - 6s 168ms/step - loss: 3.5666 - accuracy: 0.6717 - val_loss: 5.0728 - val_accuracy: 0.5049\n",
            "\n",
            "Epoch 00012: val_loss did not improve from 4.64038\n",
            "Epoch 13/30\n",
            "34/34 [==============================] - 6s 181ms/step - loss: 3.3601 - accuracy: 0.6722 - val_loss: 3.9388 - val_accuracy: 0.5123\n",
            "\n",
            "Epoch 00013: val_loss improved from 4.64038 to 3.93876, saving model to Exp4v3p1_full_run1.hdf5\n",
            "Epoch 14/30\n",
            "34/34 [==============================] - 6s 169ms/step - loss: 3.1664 - accuracy: 0.6966 - val_loss: 3.9506 - val_accuracy: 0.5062\n",
            "\n",
            "Epoch 00014: val_loss did not improve from 3.93876\n",
            "Epoch 15/30\n",
            "34/34 [==============================] - 6s 177ms/step - loss: 3.0006 - accuracy: 0.7072 - val_loss: 4.1222 - val_accuracy: 0.5037\n",
            "\n",
            "Epoch 00015: val_loss did not improve from 3.93876\n",
            "Epoch 16/30\n",
            "34/34 [==============================] - 6s 177ms/step - loss: 2.8506 - accuracy: 0.7265 - val_loss: 3.4170 - val_accuracy: 0.5025\n",
            "\n",
            "Epoch 00016: val_loss improved from 3.93876 to 3.41698, saving model to Exp4v3p1_full_run1.hdf5\n",
            "Epoch 17/30\n",
            "34/34 [==============================] - 6s 168ms/step - loss: 2.7098 - accuracy: 0.7371 - val_loss: 3.1776 - val_accuracy: 0.5111\n",
            "\n",
            "Epoch 00017: val_loss improved from 3.41698 to 3.17757, saving model to Exp4v3p1_full_run1.hdf5\n",
            "Epoch 18/30\n",
            "34/34 [==============================] - 6s 166ms/step - loss: 2.5796 - accuracy: 0.7413 - val_loss: 3.3475 - val_accuracy: 0.5222\n",
            "\n",
            "Epoch 00018: val_loss did not improve from 3.17757\n",
            "Epoch 19/30\n",
            "34/34 [==============================] - 6s 178ms/step - loss: 2.4552 - accuracy: 0.7670 - val_loss: 4.2255 - val_accuracy: 0.5197\n",
            "\n",
            "Epoch 00019: val_loss did not improve from 3.17757\n",
            "Epoch 20/30\n",
            "34/34 [==============================] - 6s 174ms/step - loss: 2.3467 - accuracy: 0.7804 - val_loss: 2.9859 - val_accuracy: 0.5111\n",
            "\n",
            "Epoch 00020: val_loss improved from 3.17757 to 2.98588, saving model to Exp4v3p1_full_run1.hdf5\n",
            "Epoch 21/30\n",
            "34/34 [==============================] - 6s 164ms/step - loss: 2.2502 - accuracy: 0.7735 - val_loss: 3.8243 - val_accuracy: 0.5209\n",
            "\n",
            "Epoch 00021: val_loss did not improve from 2.98588\n",
            "Epoch 22/30\n",
            "34/34 [==============================] - 6s 180ms/step - loss: 2.1494 - accuracy: 0.7974 - val_loss: 2.5104 - val_accuracy: 0.5172\n",
            "\n",
            "Epoch 00022: val_loss improved from 2.98588 to 2.51039, saving model to Exp4v3p1_full_run1.hdf5\n",
            "Epoch 23/30\n",
            "34/34 [==============================] - 6s 167ms/step - loss: 2.0629 - accuracy: 0.8006 - val_loss: 3.8059 - val_accuracy: 0.5062\n",
            "\n",
            "Epoch 00023: val_loss did not improve from 2.51039\n",
            "Epoch 24/30\n",
            "34/34 [==============================] - 6s 179ms/step - loss: 1.9797 - accuracy: 0.8237 - val_loss: 2.8471 - val_accuracy: 0.5185\n",
            "\n",
            "Epoch 00024: val_loss did not improve from 2.51039\n",
            "Epoch 25/30\n",
            "34/34 [==============================] - 6s 176ms/step - loss: 1.9098 - accuracy: 0.8089 - val_loss: 3.2164 - val_accuracy: 0.5197\n",
            "\n",
            "Epoch 00025: val_loss did not improve from 2.51039\n",
            "Epoch 26/30\n",
            "34/34 [==============================] - 6s 186ms/step - loss: 1.8383 - accuracy: 0.8352 - val_loss: 2.8956 - val_accuracy: 0.5172\n",
            "\n",
            "Epoch 00026: val_loss did not improve from 2.51039\n",
            "Epoch 27/30\n",
            "34/34 [==============================] - 6s 176ms/step - loss: 1.7720 - accuracy: 0.8398 - val_loss: 2.2494 - val_accuracy: 0.5074\n",
            "\n",
            "Epoch 00027: val_loss improved from 2.51039 to 2.24941, saving model to Exp4v3p1_full_run1.hdf5\n",
            "Epoch 28/30\n",
            "34/34 [==============================] - 6s 171ms/step - loss: 1.7018 - accuracy: 0.8485 - val_loss: 3.7349 - val_accuracy: 0.5025\n",
            "\n",
            "Epoch 00028: val_loss did not improve from 2.24941\n",
            "Epoch 29/30\n",
            "34/34 [==============================] - 6s 183ms/step - loss: 1.6495 - accuracy: 0.8402 - val_loss: 4.2161 - val_accuracy: 0.4926\n",
            "\n",
            "Epoch 00029: val_loss did not improve from 2.24941\n",
            "Epoch 30/30\n",
            "34/34 [==============================] - 6s 175ms/step - loss: 1.5981 - accuracy: 0.8338 - val_loss: 3.1321 - val_accuracy: 0.5049\n",
            "\n",
            "Epoch 00030: val_loss did not improve from 2.24941\n"
          ],
          "name": "stdout"
        }
      ]
    },
    {
      "cell_type": "code",
      "metadata": {
        "id": "JRO-_A-CZbmG",
        "colab_type": "code",
        "colab": {}
      },
      "source": [
        "if self_sup == True:\n",
        "    cp2 = ModelCheckpoint(filepath= file_name + '_run2.hdf5', verbose=1, monitor='val_loss', save_best_only=True)"
      ],
      "execution_count": null,
      "outputs": []
    },
    {
      "cell_type": "code",
      "metadata": {
        "id": "7VaKWgu8-nQi",
        "colab_type": "code",
        "colab": {
          "base_uri": "https://localhost:8080/",
          "height": 53
        },
        "outputId": "9e7b440d-a285-4712-b69b-409a966911f0"
      },
      "source": [
        "if aug == True:\n",
        "    train_generator = train_datagen.flow_from_directory(\n",
        "        'train',\n",
        "        target_size = (W,H),\n",
        "        batch_size = 4,\n",
        "        class_mode='categorical'\n",
        "    )\n",
        "\n",
        "    test_generator = test_datagen.flow_from_directory(\n",
        "        'test',\n",
        "        target_size = (W,H),\n",
        "        class_mode = 'categorical'\n",
        "    )"
      ],
      "execution_count": null,
      "outputs": [
        {
          "output_type": "stream",
          "text": [
            "Found 1086 images belonging to 2 classes.\n",
            "Found 406 images belonging to 2 classes.\n"
          ],
          "name": "stdout"
        }
      ]
    },
    {
      "cell_type": "code",
      "metadata": {
        "id": "OXzQOD_QPu0z",
        "colab_type": "code",
        "colab": {
          "base_uri": "https://localhost:8080/",
          "height": 1000
        },
        "outputId": "0b590cd3-f433-4876-cdbd-e1f03812b5aa"
      },
      "source": [
        "if self_sup == True:\n",
        "    #Fine tuning\n",
        "\n",
        "    from keras.models import load_model\n",
        "    model = load_model(file_name + '_run1.hdf5')\n",
        "\n",
        "    for layer in model.layers:\n",
        "      layer.trainable = True\n",
        "\n",
        "    from keras.optimizers import SGD\n",
        "    model.compile(optimizer=SGD(lr=0.00001, momentum=0.9), loss='binary_crossentropy', metrics=[\"accuracy\"])\n",
        "\n",
        "    if aug == True:\n",
        "        hist = model.fit_generator(train_generator, epochs=30, validation_data=test_generator, callbacks=[cp2], verbose=1)\n",
        "    else:\n",
        "        hist1 = model.fit(x=train_img,y = y_train, epochs=30, validation_data=(test_img, y_test), callbacks=[cp2], verbose=1)\n",
        "\n",
        "    "
      ],
      "execution_count": null,
      "outputs": [
        {
          "output_type": "stream",
          "text": [
            "Epoch 1/30\n",
            "272/272 [==============================] - 83s 305ms/step - loss: 1.9024 - accuracy: 0.6436 - val_loss: 1.9250 - val_accuracy: 0.5456\n",
            "\n",
            "Epoch 00001: val_loss improved from inf to 1.92495, saving model to Exp4v3p1_full_run2.hdf5\n",
            "Epoch 2/30\n",
            "272/272 [==============================] - 49s 180ms/step - loss: 1.8599 - accuracy: 0.6699 - val_loss: 1.9744 - val_accuracy: 0.5640\n",
            "\n",
            "Epoch 00002: val_loss did not improve from 1.92495\n",
            "Epoch 3/30\n",
            "272/272 [==============================] - 49s 181ms/step - loss: 1.8429 - accuracy: 0.6952 - val_loss: 1.9589 - val_accuracy: 0.5924\n",
            "\n",
            "Epoch 00003: val_loss did not improve from 1.92495\n",
            "Epoch 4/30\n",
            "272/272 [==============================] - 50s 184ms/step - loss: 1.8333 - accuracy: 0.7192 - val_loss: 1.9175 - val_accuracy: 0.5998\n",
            "\n",
            "Epoch 00004: val_loss improved from 1.92495 to 1.91749, saving model to Exp4v3p1_full_run2.hdf5\n",
            "Epoch 5/30\n",
            "272/272 [==============================] - 49s 181ms/step - loss: 1.8103 - accuracy: 0.7159 - val_loss: 1.9723 - val_accuracy: 0.6219\n",
            "\n",
            "Epoch 00005: val_loss did not improve from 1.91749\n",
            "Epoch 6/30\n",
            "272/272 [==============================] - 49s 182ms/step - loss: 1.8042 - accuracy: 0.7265 - val_loss: 1.9348 - val_accuracy: 0.6195\n",
            "\n",
            "Epoch 00006: val_loss did not improve from 1.91749\n",
            "Epoch 7/30\n",
            "272/272 [==============================] - 49s 180ms/step - loss: 1.7870 - accuracy: 0.7422 - val_loss: 1.8635 - val_accuracy: 0.6330\n",
            "\n",
            "Epoch 00007: val_loss improved from 1.91749 to 1.86349, saving model to Exp4v3p1_full_run2.hdf5\n",
            "Epoch 8/30\n",
            "272/272 [==============================] - 49s 182ms/step - loss: 1.7467 - accuracy: 0.7721 - val_loss: 1.8633 - val_accuracy: 0.6195\n",
            "\n",
            "Epoch 00008: val_loss improved from 1.86349 to 1.86326, saving model to Exp4v3p1_full_run2.hdf5\n",
            "Epoch 9/30\n",
            "272/272 [==============================] - 50s 183ms/step - loss: 1.7444 - accuracy: 0.7762 - val_loss: 2.0173 - val_accuracy: 0.6416\n",
            "\n",
            "Epoch 00009: val_loss did not improve from 1.86326\n",
            "Epoch 10/30\n",
            "272/272 [==============================] - 50s 184ms/step - loss: 1.7378 - accuracy: 0.7859 - val_loss: 2.1005 - val_accuracy: 0.6761\n",
            "\n",
            "Epoch 00010: val_loss did not improve from 1.86326\n",
            "Epoch 11/30\n",
            "272/272 [==============================] - 49s 182ms/step - loss: 1.6967 - accuracy: 0.8099 - val_loss: 2.0031 - val_accuracy: 0.6712\n",
            "\n",
            "Epoch 00011: val_loss did not improve from 1.86326\n",
            "Epoch 12/30\n",
            "272/272 [==============================] - 49s 180ms/step - loss: 1.6883 - accuracy: 0.8145 - val_loss: 1.9406 - val_accuracy: 0.6835\n",
            "\n",
            "Epoch 00012: val_loss did not improve from 1.86326\n",
            "Epoch 13/30\n",
            "272/272 [==============================] - 49s 180ms/step - loss: 1.6597 - accuracy: 0.8444 - val_loss: 1.9320 - val_accuracy: 0.6983\n",
            "\n",
            "Epoch 00013: val_loss did not improve from 1.86326\n",
            "Epoch 14/30\n",
            "272/272 [==============================] - 49s 179ms/step - loss: 1.6472 - accuracy: 0.8412 - val_loss: 1.7911 - val_accuracy: 0.6909\n",
            "\n",
            "Epoch 00014: val_loss improved from 1.86326 to 1.79109, saving model to Exp4v3p1_full_run2.hdf5\n",
            "Epoch 15/30\n",
            "272/272 [==============================] - 50s 183ms/step - loss: 1.6218 - accuracy: 0.8692 - val_loss: 1.7226 - val_accuracy: 0.7401\n",
            "\n",
            "Epoch 00015: val_loss improved from 1.79109 to 1.72264, saving model to Exp4v3p1_full_run2.hdf5\n",
            "Epoch 16/30\n",
            "272/272 [==============================] - 50s 184ms/step - loss: 1.6205 - accuracy: 0.8573 - val_loss: 1.6020 - val_accuracy: 0.7389\n",
            "\n",
            "Epoch 00016: val_loss improved from 1.72264 to 1.60200, saving model to Exp4v3p1_full_run2.hdf5\n",
            "Epoch 17/30\n",
            "272/272 [==============================] - 49s 179ms/step - loss: 1.6052 - accuracy: 0.8656 - val_loss: 1.7064 - val_accuracy: 0.7352\n",
            "\n",
            "Epoch 00017: val_loss did not improve from 1.60200\n",
            "Epoch 18/30\n",
            "272/272 [==============================] - 49s 181ms/step - loss: 1.6044 - accuracy: 0.8522 - val_loss: 1.7112 - val_accuracy: 0.7389\n",
            "\n",
            "Epoch 00018: val_loss did not improve from 1.60200\n",
            "Epoch 19/30\n",
            "272/272 [==============================] - 49s 179ms/step - loss: 1.5893 - accuracy: 0.8577 - val_loss: 1.8839 - val_accuracy: 0.7549\n",
            "\n",
            "Epoch 00019: val_loss did not improve from 1.60200\n",
            "Epoch 20/30\n",
            "272/272 [==============================] - 49s 180ms/step - loss: 1.5551 - accuracy: 0.8886 - val_loss: 1.7824 - val_accuracy: 0.7820\n",
            "\n",
            "Epoch 00020: val_loss did not improve from 1.60200\n",
            "Epoch 21/30\n",
            "272/272 [==============================] - 49s 179ms/step - loss: 1.5695 - accuracy: 0.8646 - val_loss: 1.8873 - val_accuracy: 0.7845\n",
            "\n",
            "Epoch 00021: val_loss did not improve from 1.60200\n",
            "Epoch 22/30\n",
            "272/272 [==============================] - 49s 178ms/step - loss: 1.5504 - accuracy: 0.8812 - val_loss: 1.5118 - val_accuracy: 0.7906\n",
            "\n",
            "Epoch 00022: val_loss improved from 1.60200 to 1.51179, saving model to Exp4v3p1_full_run2.hdf5\n",
            "Epoch 23/30\n",
            "272/272 [==============================] - 50s 185ms/step - loss: 1.5558 - accuracy: 0.8679 - val_loss: 1.6845 - val_accuracy: 0.7734\n",
            "\n",
            "Epoch 00023: val_loss did not improve from 1.51179\n",
            "Epoch 24/30\n",
            "272/272 [==============================] - 48s 177ms/step - loss: 1.5459 - accuracy: 0.8752 - val_loss: 1.7852 - val_accuracy: 0.7943\n",
            "\n",
            "Epoch 00024: val_loss did not improve from 1.51179\n",
            "Epoch 25/30\n",
            "272/272 [==============================] - 49s 182ms/step - loss: 1.5102 - accuracy: 0.8923 - val_loss: 1.5424 - val_accuracy: 0.8054\n",
            "\n",
            "Epoch 00025: val_loss did not improve from 1.51179\n",
            "Epoch 26/30\n",
            "272/272 [==============================] - 50s 182ms/step - loss: 1.5089 - accuracy: 0.9001 - val_loss: 1.5261 - val_accuracy: 0.8140\n",
            "\n",
            "Epoch 00026: val_loss did not improve from 1.51179\n",
            "Epoch 27/30\n",
            "272/272 [==============================] - 49s 181ms/step - loss: 1.5150 - accuracy: 0.8858 - val_loss: 1.5436 - val_accuracy: 0.7943\n",
            "\n",
            "Epoch 00027: val_loss did not improve from 1.51179\n",
            "Epoch 28/30\n",
            "272/272 [==============================] - 49s 178ms/step - loss: 1.4755 - accuracy: 0.9185 - val_loss: 1.7823 - val_accuracy: 0.8079\n",
            "\n",
            "Epoch 00028: val_loss did not improve from 1.51179\n",
            "Epoch 29/30\n",
            "272/272 [==============================] - 49s 181ms/step - loss: 1.4942 - accuracy: 0.8950 - val_loss: 1.5949 - val_accuracy: 0.8214\n",
            "\n",
            "Epoch 00029: val_loss did not improve from 1.51179\n",
            "Epoch 30/30\n",
            "272/272 [==============================] - 48s 178ms/step - loss: 1.4902 - accuracy: 0.8950 - val_loss: 1.5967 - val_accuracy: 0.8103\n",
            "\n",
            "Epoch 00030: val_loss did not improve from 1.51179\n"
          ],
          "name": "stdout"
        }
      ]
    },
    {
      "cell_type": "code",
      "metadata": {
        "id": "KEUHa08490On",
        "colab_type": "code",
        "colab": {}
      },
      "source": [
        "if self_sup == True:\n",
        "    #learning rate decay\n",
        "    \n",
        "    lr = ReduceLROnPlateau(monitor='val_loss', factor=0.1, patience=5)\n",
        "    cp3 = ModelCheckpoint(filepath=file_name + '_run3.hdf5', verbose=1, monitor='val_loss', save_best_only=True)"
      ],
      "execution_count": null,
      "outputs": []
    },
    {
      "cell_type": "code",
      "metadata": {
        "id": "PCPO7ly9bBD4",
        "colab_type": "code",
        "colab": {
          "base_uri": "https://localhost:8080/",
          "height": 1000
        },
        "outputId": "41cda137-a4e6-43fd-9fce-72fb10beb056"
      },
      "source": [
        "if self_sup == True:\n",
        "    model = load_model(file_name + '_run2.hdf5')\n",
        "    model.compile(optimizer=SGD(lr=0.000001), loss='binary_crossentropy', metrics=[\"accuracy\"])\n",
        "\n",
        "    if aug == True:\n",
        "        hist = model.fit_generator(train_generator, epochs=30, validation_data=test_generator, callbacks=[cp3], verbose=1)\n",
        "    else:\n",
        "        hist1 = model.fit(x=train_img,y = y_train, epochs=30, validation_data=(test_img, y_test), callbacks=[cp3], verbose=1)"
      ],
      "execution_count": null,
      "outputs": [
        {
          "output_type": "stream",
          "text": [
            "Epoch 1/30\n",
            "272/272 [==============================] - 84s 309ms/step - loss: 1.5452 - accuracy: 0.8844 - val_loss: 1.7625 - val_accuracy: 0.7796\n",
            "\n",
            "Epoch 00001: val_loss improved from inf to 1.76252, saving model to Exp4v3p1_full_run3.hdf5\n",
            "Epoch 2/30\n",
            "272/272 [==============================] - 50s 182ms/step - loss: 1.5389 - accuracy: 0.8895 - val_loss: 1.8341 - val_accuracy: 0.7771\n",
            "\n",
            "Epoch 00002: val_loss did not improve from 1.76252\n",
            "Epoch 3/30\n",
            "272/272 [==============================] - 50s 186ms/step - loss: 1.5362 - accuracy: 0.8918 - val_loss: 1.7379 - val_accuracy: 0.7734\n",
            "\n",
            "Epoch 00003: val_loss improved from 1.76252 to 1.73790, saving model to Exp4v3p1_full_run3.hdf5\n",
            "Epoch 4/30\n",
            "272/272 [==============================] - 50s 183ms/step - loss: 1.5471 - accuracy: 0.8734 - val_loss: 1.7597 - val_accuracy: 0.7759\n",
            "\n",
            "Epoch 00004: val_loss did not improve from 1.73790\n",
            "Epoch 5/30\n",
            "272/272 [==============================] - 50s 183ms/step - loss: 1.5373 - accuracy: 0.8863 - val_loss: 1.5678 - val_accuracy: 0.7783\n",
            "\n",
            "Epoch 00005: val_loss improved from 1.73790 to 1.56783, saving model to Exp4v3p1_full_run3.hdf5\n",
            "Epoch 6/30\n",
            "272/272 [==============================] - 51s 186ms/step - loss: 1.5519 - accuracy: 0.8702 - val_loss: 1.7122 - val_accuracy: 0.7722\n",
            "\n",
            "Epoch 00006: val_loss did not improve from 1.56783\n",
            "Epoch 7/30\n",
            "272/272 [==============================] - 50s 182ms/step - loss: 1.5353 - accuracy: 0.8849 - val_loss: 1.7610 - val_accuracy: 0.7771\n",
            "\n",
            "Epoch 00007: val_loss did not improve from 1.56783\n",
            "Epoch 8/30\n",
            "272/272 [==============================] - 50s 182ms/step - loss: 1.5425 - accuracy: 0.8867 - val_loss: 1.8299 - val_accuracy: 0.7808\n",
            "\n",
            "Epoch 00008: val_loss did not improve from 1.56783\n",
            "Epoch 9/30\n",
            "272/272 [==============================] - 52s 189ms/step - loss: 1.5130 - accuracy: 0.8983 - val_loss: 1.6793 - val_accuracy: 0.7808\n",
            "\n",
            "Epoch 00009: val_loss did not improve from 1.56783\n",
            "Epoch 10/30\n",
            "272/272 [==============================] - 51s 187ms/step - loss: 1.5221 - accuracy: 0.8987 - val_loss: 1.6012 - val_accuracy: 0.7796\n",
            "\n",
            "Epoch 00010: val_loss did not improve from 1.56783\n",
            "Epoch 11/30\n",
            "272/272 [==============================] - 50s 184ms/step - loss: 1.5485 - accuracy: 0.8734 - val_loss: 1.7279 - val_accuracy: 0.7771\n",
            "\n",
            "Epoch 00011: val_loss did not improve from 1.56783\n",
            "Epoch 12/30\n",
            "272/272 [==============================] - 51s 187ms/step - loss: 1.5324 - accuracy: 0.8913 - val_loss: 1.8204 - val_accuracy: 0.7759\n",
            "\n",
            "Epoch 00012: val_loss did not improve from 1.56783\n",
            "Epoch 13/30\n",
            "272/272 [==============================] - 50s 183ms/step - loss: 1.5219 - accuracy: 0.9038 - val_loss: 1.5593 - val_accuracy: 0.7783\n",
            "\n",
            "Epoch 00013: val_loss improved from 1.56783 to 1.55932, saving model to Exp4v3p1_full_run3.hdf5\n",
            "Epoch 14/30\n",
            "272/272 [==============================] - 50s 185ms/step - loss: 1.5452 - accuracy: 0.8794 - val_loss: 1.5686 - val_accuracy: 0.7783\n",
            "\n",
            "Epoch 00014: val_loss did not improve from 1.55932\n",
            "Epoch 15/30\n",
            "272/272 [==============================] - 49s 182ms/step - loss: 1.5341 - accuracy: 0.8890 - val_loss: 1.7344 - val_accuracy: 0.7796\n",
            "\n",
            "Epoch 00015: val_loss did not improve from 1.55932\n",
            "Epoch 16/30\n",
            "272/272 [==============================] - 50s 183ms/step - loss: 1.5478 - accuracy: 0.8808 - val_loss: 1.9138 - val_accuracy: 0.7697\n",
            "\n",
            "Epoch 00016: val_loss did not improve from 1.55932\n",
            "Epoch 17/30\n",
            "272/272 [==============================] - 49s 182ms/step - loss: 1.5059 - accuracy: 0.9199 - val_loss: 1.6574 - val_accuracy: 0.7759\n",
            "\n",
            "Epoch 00017: val_loss did not improve from 1.55932\n",
            "Epoch 18/30\n",
            "272/272 [==============================] - 50s 184ms/step - loss: 1.5253 - accuracy: 0.9006 - val_loss: 1.7485 - val_accuracy: 0.7783\n",
            "\n",
            "Epoch 00018: val_loss did not improve from 1.55932\n",
            "Epoch 19/30\n",
            "272/272 [==============================] - 49s 179ms/step - loss: 1.5143 - accuracy: 0.9070 - val_loss: 1.6635 - val_accuracy: 0.7796\n",
            "\n",
            "Epoch 00019: val_loss did not improve from 1.55932\n",
            "Epoch 20/30\n",
            "272/272 [==============================] - 50s 182ms/step - loss: 1.5280 - accuracy: 0.8904 - val_loss: 1.5664 - val_accuracy: 0.7808\n",
            "\n",
            "Epoch 00020: val_loss did not improve from 1.55932\n",
            "Epoch 21/30\n",
            "272/272 [==============================] - 49s 181ms/step - loss: 1.5325 - accuracy: 0.8863 - val_loss: 1.5920 - val_accuracy: 0.7746\n",
            "\n",
            "Epoch 00021: val_loss did not improve from 1.55932\n",
            "Epoch 22/30\n",
            "272/272 [==============================] - 50s 183ms/step - loss: 1.5258 - accuracy: 0.8950 - val_loss: 1.9287 - val_accuracy: 0.7759\n",
            "\n",
            "Epoch 00022: val_loss did not improve from 1.55932\n",
            "Epoch 23/30\n",
            "272/272 [==============================] - 50s 185ms/step - loss: 1.5246 - accuracy: 0.8918 - val_loss: 1.6238 - val_accuracy: 0.7783\n",
            "\n",
            "Epoch 00023: val_loss did not improve from 1.55932\n",
            "Epoch 24/30\n",
            "272/272 [==============================] - 50s 185ms/step - loss: 1.5277 - accuracy: 0.8946 - val_loss: 1.6579 - val_accuracy: 0.7796\n",
            "\n",
            "Epoch 00024: val_loss did not improve from 1.55932\n",
            "Epoch 25/30\n",
            "272/272 [==============================] - 49s 182ms/step - loss: 1.5443 - accuracy: 0.8766 - val_loss: 1.6057 - val_accuracy: 0.7783\n",
            "\n",
            "Epoch 00025: val_loss did not improve from 1.55932\n",
            "Epoch 26/30\n",
            "272/272 [==============================] - 49s 181ms/step - loss: 1.5174 - accuracy: 0.9065 - val_loss: 1.6636 - val_accuracy: 0.7746\n",
            "\n",
            "Epoch 00026: val_loss did not improve from 1.55932\n",
            "Epoch 27/30\n",
            "272/272 [==============================] - 50s 182ms/step - loss: 1.5443 - accuracy: 0.8794 - val_loss: 1.6456 - val_accuracy: 0.7759\n",
            "\n",
            "Epoch 00027: val_loss did not improve from 1.55932\n",
            "Epoch 28/30\n",
            "272/272 [==============================] - 50s 185ms/step - loss: 1.5292 - accuracy: 0.8890 - val_loss: 1.7484 - val_accuracy: 0.7796\n",
            "\n",
            "Epoch 00028: val_loss did not improve from 1.55932\n",
            "Epoch 29/30\n",
            "272/272 [==============================] - 50s 183ms/step - loss: 1.5360 - accuracy: 0.8831 - val_loss: 1.8345 - val_accuracy: 0.7808\n",
            "\n",
            "Epoch 00029: val_loss did not improve from 1.55932\n",
            "Epoch 30/30\n",
            "272/272 [==============================] - 51s 187ms/step - loss: 1.5309 - accuracy: 0.8900 - val_loss: 1.7334 - val_accuracy: 0.7759\n",
            "\n",
            "Epoch 00030: val_loss did not improve from 1.55932\n"
          ],
          "name": "stdout"
        }
      ]
    },
    {
      "cell_type": "code",
      "metadata": {
        "id": "VFFXAfOpWQ_C",
        "colab_type": "code",
        "colab": {
          "base_uri": "https://localhost:8080/",
          "height": 35
        },
        "outputId": "3704f6e4-165e-4447-9120-49ee28addbd6"
      },
      "source": [
        "#Try on benign vs malignant\n",
        "os.chdir('/content/drive/My Drive/MRP/Covid-target/organized/')\n",
        "print()"
      ],
      "execution_count": null,
      "outputs": [
        {
          "output_type": "stream",
          "text": [
            "\n"
          ],
          "name": "stdout"
        }
      ]
    },
    {
      "cell_type": "code",
      "metadata": {
        "id": "APeHNWJh06sU",
        "colab_type": "code",
        "colab": {}
      },
      "source": [
        "org_base = '/content/drive/My Drive/MRP/Covid-target/self/'"
      ],
      "execution_count": null,
      "outputs": []
    },
    {
      "cell_type": "code",
      "metadata": {
        "id": "sYeHgmhZdtep",
        "colab_type": "code",
        "colab": {}
      },
      "source": [
        "lr = ReduceLROnPlateau(monitor='val_loss', factor=0.1, patience=5)\n",
        "cp4 = ModelCheckpoint(filepath=file_name + '_run4.hdf5', verbose=1, monitor='val_accuracy', save_best_only=True)"
      ],
      "execution_count": null,
      "outputs": []
    },
    {
      "cell_type": "code",
      "metadata": {
        "id": "vCA63IhiAah3",
        "colab_type": "code",
        "colab": {
          "base_uri": "https://localhost:8080/",
          "height": 53
        },
        "outputId": "ca5b1380-0557-4ca2-db79-5efe0d54ffb9"
      },
      "source": [
        "if aug == True:\n",
        "    train_generator = train_datagen.flow_from_directory(\n",
        "        'big_train',\n",
        "        target_size = (W,H),\n",
        "        class_mode='categorical'\n",
        "    )\n",
        "\n",
        "    test_generator = test_datagen.flow_from_directory(\n",
        "        'test',\n",
        "        target_size = (W,H),\n",
        "        class_mode = 'categorical'\n",
        "    )\n"
      ],
      "execution_count": null,
      "outputs": [
        {
          "output_type": "stream",
          "text": [
            "Found 543 images belonging to 2 classes.\n",
            "Found 203 images belonging to 2 classes.\n"
          ],
          "name": "stdout"
        }
      ]
    },
    {
      "cell_type": "code",
      "metadata": {
        "id": "XDh2bgr2eqEc",
        "colab_type": "code",
        "colab": {
          "base_uri": "https://localhost:8080/",
          "height": 1000
        },
        "outputId": "005fd3a0-e575-424b-ce0d-362b102779a3"
      },
      "source": [
        "#benign vs malignant\n",
        "if self_sup == True:\n",
        "    model = load_model(org_base + file_name + '_run3.hdf5')\n",
        "\n",
        "\n",
        "for layer in base_model.layers:\n",
        "    layer.trainable = False\n",
        "\n",
        "model.compile(optimizer=keras.optimizers.RMSprop(lr=0.0001), loss='binary_crossentropy', metrics=[\"accuracy\"])\n",
        "\n",
        "if aug == True:\n",
        "    hist = model.fit_generator(train_generator, epochs=30, validation_data=test_generator, callbacks=[cp4], verbose=1)\n",
        "else:\n",
        "    hist1 = model.fit(x=train_img,y = y_train, epochs=30, validation_data=(test_img, y_test), callbacks=[cp4], verbose=1)"
      ],
      "execution_count": null,
      "outputs": [
        {
          "output_type": "stream",
          "text": [
            "Epoch 1/30\n",
            "17/17 [==============================] - 267s 16s/step - loss: 1.6460 - accuracy: 0.7974 - val_loss: 2.4798 - val_accuracy: 0.6182\n",
            "\n",
            "Epoch 00001: val_accuracy improved from -inf to 0.61823, saving model to Exp4v3p1_full_run4.hdf5\n",
            "Epoch 2/30\n",
            "17/17 [==============================] - 6s 375ms/step - loss: 1.2320 - accuracy: 0.9880 - val_loss: 1.7130 - val_accuracy: 0.7094\n",
            "\n",
            "Epoch 00002: val_accuracy improved from 0.61823 to 0.70936, saving model to Exp4v3p1_full_run4.hdf5\n",
            "Epoch 3/30\n",
            "17/17 [==============================] - 6s 375ms/step - loss: 1.1292 - accuracy: 0.9982 - val_loss: 1.7722 - val_accuracy: 0.7241\n",
            "\n",
            "Epoch 00003: val_accuracy improved from 0.70936 to 0.72414, saving model to Exp4v3p1_full_run4.hdf5\n",
            "Epoch 4/30\n",
            "17/17 [==============================] - 6s 371ms/step - loss: 1.0069 - accuracy: 1.0000 - val_loss: 1.1042 - val_accuracy: 0.7709\n",
            "\n",
            "Epoch 00004: val_accuracy improved from 0.72414 to 0.77094, saving model to Exp4v3p1_full_run4.hdf5\n",
            "Epoch 5/30\n",
            "17/17 [==============================] - 6s 375ms/step - loss: 0.8922 - accuracy: 0.9963 - val_loss: 0.9375 - val_accuracy: 0.7685\n",
            "\n",
            "Epoch 00005: val_accuracy did not improve from 0.77094\n",
            "Epoch 6/30\n",
            "17/17 [==============================] - 6s 381ms/step - loss: 0.7564 - accuracy: 1.0000 - val_loss: 1.1302 - val_accuracy: 0.7685\n",
            "\n",
            "Epoch 00006: val_accuracy did not improve from 0.77094\n",
            "Epoch 7/30\n",
            "17/17 [==============================] - 7s 383ms/step - loss: 0.6817 - accuracy: 0.9843 - val_loss: 2.1396 - val_accuracy: 0.6897\n",
            "\n",
            "Epoch 00007: val_accuracy did not improve from 0.77094\n",
            "Epoch 8/30\n",
            "17/17 [==============================] - 6s 375ms/step - loss: 0.5929 - accuracy: 0.9945 - val_loss: 1.2496 - val_accuracy: 0.7709\n",
            "\n",
            "Epoch 00008: val_accuracy did not improve from 0.77094\n",
            "Epoch 9/30\n",
            "17/17 [==============================] - 6s 376ms/step - loss: 0.5062 - accuracy: 0.9982 - val_loss: 1.1207 - val_accuracy: 0.8128\n",
            "\n",
            "Epoch 00009: val_accuracy improved from 0.77094 to 0.81281, saving model to Exp4v3p1_full_run4.hdf5\n",
            "Epoch 10/30\n",
            "17/17 [==============================] - 6s 380ms/step - loss: 0.4262 - accuracy: 0.9963 - val_loss: 1.1428 - val_accuracy: 0.8103\n",
            "\n",
            "Epoch 00010: val_accuracy did not improve from 0.81281\n",
            "Epoch 11/30\n",
            "17/17 [==============================] - 6s 382ms/step - loss: 0.3436 - accuracy: 1.0000 - val_loss: 0.7647 - val_accuracy: 0.8177\n",
            "\n",
            "Epoch 00011: val_accuracy improved from 0.81281 to 0.81773, saving model to Exp4v3p1_full_run4.hdf5\n",
            "Epoch 12/30\n",
            "17/17 [==============================] - 7s 390ms/step - loss: 0.2667 - accuracy: 1.0000 - val_loss: 0.7117 - val_accuracy: 0.8325\n",
            "\n",
            "Epoch 00012: val_accuracy improved from 0.81773 to 0.83251, saving model to Exp4v3p1_full_run4.hdf5\n",
            "Epoch 13/30\n",
            "17/17 [==============================] - 6s 372ms/step - loss: 0.2396 - accuracy: 0.9899 - val_loss: 2.6946 - val_accuracy: 0.7143\n",
            "\n",
            "Epoch 00013: val_accuracy did not improve from 0.83251\n",
            "Epoch 14/30\n",
            "17/17 [==============================] - 7s 387ms/step - loss: 0.1906 - accuracy: 1.0000 - val_loss: 1.1040 - val_accuracy: 0.7537\n",
            "\n",
            "Epoch 00014: val_accuracy did not improve from 0.83251\n",
            "Epoch 15/30\n",
            "17/17 [==============================] - 6s 379ms/step - loss: 0.1924 - accuracy: 0.9834 - val_loss: 1.5682 - val_accuracy: 0.7438\n",
            "\n",
            "Epoch 00015: val_accuracy did not improve from 0.83251\n",
            "Epoch 16/30\n",
            "17/17 [==============================] - 6s 377ms/step - loss: 0.1541 - accuracy: 0.9926 - val_loss: 1.1293 - val_accuracy: 0.8054\n",
            "\n",
            "Epoch 00016: val_accuracy did not improve from 0.83251\n",
            "Epoch 17/30\n",
            "17/17 [==============================] - 6s 381ms/step - loss: 0.1226 - accuracy: 1.0000 - val_loss: 1.2730 - val_accuracy: 0.8153\n",
            "\n",
            "Epoch 00017: val_accuracy did not improve from 0.83251\n",
            "Epoch 18/30\n",
            "17/17 [==============================] - 6s 377ms/step - loss: 0.1168 - accuracy: 0.9908 - val_loss: 1.3941 - val_accuracy: 0.7685\n",
            "\n",
            "Epoch 00018: val_accuracy did not improve from 0.83251\n",
            "Epoch 19/30\n",
            "17/17 [==============================] - 6s 379ms/step - loss: 0.0939 - accuracy: 0.9954 - val_loss: 0.5454 - val_accuracy: 0.7980\n",
            "\n",
            "Epoch 00019: val_accuracy did not improve from 0.83251\n",
            "Epoch 20/30\n",
            "17/17 [==============================] - 6s 379ms/step - loss: 0.0823 - accuracy: 0.9982 - val_loss: 1.8951 - val_accuracy: 0.7167\n",
            "\n",
            "Epoch 00020: val_accuracy did not improve from 0.83251\n",
            "Epoch 21/30\n",
            "17/17 [==============================] - 6s 379ms/step - loss: 0.0645 - accuracy: 1.0000 - val_loss: 0.9768 - val_accuracy: 0.8177\n",
            "\n",
            "Epoch 00021: val_accuracy did not improve from 0.83251\n",
            "Epoch 22/30\n",
            "17/17 [==============================] - 6s 375ms/step - loss: 0.0598 - accuracy: 0.9963 - val_loss: 2.0715 - val_accuracy: 0.7685\n",
            "\n",
            "Epoch 00022: val_accuracy did not improve from 0.83251\n",
            "Epoch 23/30\n",
            "17/17 [==============================] - 6s 375ms/step - loss: 0.0386 - accuracy: 1.0000 - val_loss: 1.0655 - val_accuracy: 0.7931\n",
            "\n",
            "Epoch 00023: val_accuracy did not improve from 0.83251\n",
            "Epoch 24/30\n",
            "17/17 [==============================] - 6s 375ms/step - loss: 0.0291 - accuracy: 1.0000 - val_loss: 1.0892 - val_accuracy: 0.7094\n",
            "\n",
            "Epoch 00024: val_accuracy did not improve from 0.83251\n",
            "Epoch 25/30\n",
            "17/17 [==============================] - 6s 377ms/step - loss: 0.0250 - accuracy: 0.9982 - val_loss: 0.1114 - val_accuracy: 0.7980\n",
            "\n",
            "Epoch 00025: val_accuracy did not improve from 0.83251\n",
            "Epoch 26/30\n",
            "17/17 [==============================] - 6s 378ms/step - loss: 0.0311 - accuracy: 0.9945 - val_loss: 1.4345 - val_accuracy: 0.7044\n",
            "\n",
            "Epoch 00026: val_accuracy did not improve from 0.83251\n",
            "Epoch 27/30\n",
            "17/17 [==============================] - 6s 375ms/step - loss: 0.0334 - accuracy: 0.9945 - val_loss: 0.4247 - val_accuracy: 0.8030\n",
            "\n",
            "Epoch 00027: val_accuracy did not improve from 0.83251\n",
            "Epoch 28/30\n",
            "17/17 [==============================] - 6s 373ms/step - loss: 0.0303 - accuracy: 0.9945 - val_loss: 0.1455 - val_accuracy: 0.7808\n",
            "\n",
            "Epoch 00028: val_accuracy did not improve from 0.83251\n",
            "Epoch 29/30\n",
            "17/17 [==============================] - 6s 379ms/step - loss: 0.0260 - accuracy: 0.9945 - val_loss: 0.9605 - val_accuracy: 0.6798\n",
            "\n",
            "Epoch 00029: val_accuracy did not improve from 0.83251\n",
            "Epoch 30/30\n",
            "17/17 [==============================] - 6s 374ms/step - loss: 0.0145 - accuracy: 1.0000 - val_loss: 0.0788 - val_accuracy: 0.7488\n",
            "\n",
            "Epoch 00030: val_accuracy did not improve from 0.83251\n"
          ],
          "name": "stdout"
        }
      ]
    },
    {
      "cell_type": "code",
      "metadata": {
        "id": "dhgaI5A5-5mb",
        "colab_type": "code",
        "colab": {
          "base_uri": "https://localhost:8080/",
          "height": 53
        },
        "outputId": "d547fd2f-1f0a-45f6-f6eb-37ae48e9f1eb"
      },
      "source": [
        "if aug == True:\n",
        "    train_generator = train_datagen.flow_from_directory(\n",
        "        'train',\n",
        "        target_size = (W,H),\n",
        "        batch_size = 4,\n",
        "        class_mode='categorical'\n",
        "    )\n",
        "\n",
        "    test_generator = test_datagen.flow_from_directory(\n",
        "        'test',\n",
        "        target_size = (W,H),\n",
        "        class_mode = 'categorical'\n",
        "    )"
      ],
      "execution_count": null,
      "outputs": [
        {
          "output_type": "stream",
          "text": [
            "Found 425 images belonging to 2 classes.\n",
            "Found 203 images belonging to 2 classes.\n"
          ],
          "name": "stdout"
        }
      ]
    },
    {
      "cell_type": "code",
      "metadata": {
        "id": "zt6Aj6VO6srs",
        "colab_type": "code",
        "colab": {}
      },
      "source": [
        "cp5 = ModelCheckpoint(filepath=file_name + '_run5.hdf5', verbose=1, monitor='val_accuracy', save_best_only=True)"
      ],
      "execution_count": null,
      "outputs": []
    },
    {
      "cell_type": "code",
      "metadata": {
        "id": "JoWZT1o7ZdxV",
        "colab_type": "code",
        "colab": {
          "base_uri": "https://localhost:8080/",
          "height": 1000
        },
        "outputId": "efb8705f-5001-44f0-9346-9ab86aec8ebd"
      },
      "source": [
        "#model = load_model(file_name + '_run4.hdf5')\n",
        "for layer in model.layers:\n",
        "   layer.trainable = True\n",
        "\n",
        "from keras.optimizers import SGD\n",
        "model.compile(optimizer=SGD(lr=0.00001, momentum=0.9), loss='binary_crossentropy', metrics=[\"accuracy\"])\n",
        "\n",
        "if aug == True:\n",
        "    hist = model.fit_generator(train_generator, epochs=30, validation_data=test_generator, callbacks=[cp5], verbose=1)\n",
        "else:\n",
        "    hist1 = model.fit(x=train_img,y = y_train, epochs=30, validation_data=(test_img, y_test), verbose=1)"
      ],
      "execution_count": null,
      "outputs": [
        {
          "output_type": "stream",
          "text": [
            "Epoch 1/30\n",
            "107/107 [==============================] - 275s 3s/step - loss: 0.2826 - accuracy: 0.9341 - val_loss: 0.9508 - val_accuracy: 0.8079\n",
            "\n",
            "Epoch 00001: val_accuracy improved from -inf to 0.80788, saving model to Exp4v3p1_full_run5.hdf5\n",
            "Epoch 2/30\n",
            "107/107 [==============================] - 21s 193ms/step - loss: 0.3415 - accuracy: 0.9294 - val_loss: 1.6054 - val_accuracy: 0.8325\n",
            "\n",
            "Epoch 00002: val_accuracy improved from 0.80788 to 0.83251, saving model to Exp4v3p1_full_run5.hdf5\n",
            "Epoch 3/30\n",
            "107/107 [==============================] - 21s 196ms/step - loss: 0.3218 - accuracy: 0.9212 - val_loss: 1.4836 - val_accuracy: 0.8424\n",
            "\n",
            "Epoch 00003: val_accuracy improved from 0.83251 to 0.84236, saving model to Exp4v3p1_full_run5.hdf5\n",
            "Epoch 4/30\n",
            "107/107 [==============================] - 21s 195ms/step - loss: 0.2602 - accuracy: 0.9271 - val_loss: 1.0016 - val_accuracy: 0.8473\n",
            "\n",
            "Epoch 00004: val_accuracy improved from 0.84236 to 0.84729, saving model to Exp4v3p1_full_run5.hdf5\n",
            "Epoch 5/30\n",
            "107/107 [==============================] - 21s 194ms/step - loss: 0.4174 - accuracy: 0.8965 - val_loss: 0.0429 - val_accuracy: 0.8473\n",
            "\n",
            "Epoch 00005: val_accuracy did not improve from 0.84729\n",
            "Epoch 6/30\n",
            "107/107 [==============================] - 20s 190ms/step - loss: 0.3765 - accuracy: 0.9106 - val_loss: 0.4522 - val_accuracy: 0.8374\n",
            "\n",
            "Epoch 00006: val_accuracy did not improve from 0.84729\n",
            "Epoch 7/30\n",
            "107/107 [==============================] - 21s 193ms/step - loss: 0.1947 - accuracy: 0.9576 - val_loss: 1.0201 - val_accuracy: 0.8473\n",
            "\n",
            "Epoch 00007: val_accuracy did not improve from 0.84729\n",
            "Epoch 8/30\n",
            "107/107 [==============================] - 20s 189ms/step - loss: 0.4224 - accuracy: 0.9035 - val_loss: 1.1581 - val_accuracy: 0.8424\n",
            "\n",
            "Epoch 00008: val_accuracy did not improve from 0.84729\n",
            "Epoch 9/30\n",
            "107/107 [==============================] - 20s 190ms/step - loss: 0.2266 - accuracy: 0.9341 - val_loss: 0.4114 - val_accuracy: 0.8621\n",
            "\n",
            "Epoch 00009: val_accuracy improved from 0.84729 to 0.86207, saving model to Exp4v3p1_full_run5.hdf5\n",
            "Epoch 10/30\n",
            "107/107 [==============================] - 21s 192ms/step - loss: 0.1993 - accuracy: 0.9318 - val_loss: 0.0678 - val_accuracy: 0.8547\n",
            "\n",
            "Epoch 00010: val_accuracy did not improve from 0.86207\n",
            "Epoch 11/30\n",
            "107/107 [==============================] - 20s 191ms/step - loss: 0.2251 - accuracy: 0.9341 - val_loss: 0.3587 - val_accuracy: 0.8325\n",
            "\n",
            "Epoch 00011: val_accuracy did not improve from 0.86207\n",
            "Epoch 12/30\n",
            "107/107 [==============================] - 21s 192ms/step - loss: 0.2996 - accuracy: 0.9082 - val_loss: 1.1837 - val_accuracy: 0.8522\n",
            "\n",
            "Epoch 00012: val_accuracy did not improve from 0.86207\n",
            "Epoch 13/30\n",
            "107/107 [==============================] - 21s 194ms/step - loss: 0.2117 - accuracy: 0.9365 - val_loss: 0.9555 - val_accuracy: 0.8621\n",
            "\n",
            "Epoch 00013: val_accuracy did not improve from 0.86207\n",
            "Epoch 14/30\n",
            "107/107 [==============================] - 20s 190ms/step - loss: 0.1880 - accuracy: 0.9376 - val_loss: 0.7521 - val_accuracy: 0.8350\n",
            "\n",
            "Epoch 00014: val_accuracy did not improve from 0.86207\n",
            "Epoch 15/30\n",
            "107/107 [==============================] - 20s 191ms/step - loss: 0.2737 - accuracy: 0.9200 - val_loss: 0.3737 - val_accuracy: 0.8177\n",
            "\n",
            "Epoch 00015: val_accuracy did not improve from 0.86207\n",
            "Epoch 16/30\n",
            "107/107 [==============================] - 20s 188ms/step - loss: 0.3129 - accuracy: 0.9176 - val_loss: 0.1490 - val_accuracy: 0.8473\n",
            "\n",
            "Epoch 00016: val_accuracy did not improve from 0.86207\n",
            "Epoch 17/30\n",
            "107/107 [==============================] - 20s 188ms/step - loss: 0.2730 - accuracy: 0.9200 - val_loss: 1.3543 - val_accuracy: 0.8670\n",
            "\n",
            "Epoch 00017: val_accuracy improved from 0.86207 to 0.86700, saving model to Exp4v3p1_full_run5.hdf5\n",
            "Epoch 18/30\n",
            "107/107 [==============================] - 20s 191ms/step - loss: 0.2370 - accuracy: 0.9341 - val_loss: 0.0996 - val_accuracy: 0.8719\n",
            "\n",
            "Epoch 00018: val_accuracy improved from 0.86700 to 0.87192, saving model to Exp4v3p1_full_run5.hdf5\n",
            "Epoch 19/30\n",
            "107/107 [==============================] - 21s 199ms/step - loss: 0.2209 - accuracy: 0.9224 - val_loss: 0.3639 - val_accuracy: 0.8424\n",
            "\n",
            "Epoch 00019: val_accuracy did not improve from 0.87192\n",
            "Epoch 20/30\n",
            "107/107 [==============================] - 21s 195ms/step - loss: 0.2684 - accuracy: 0.9129 - val_loss: 0.7333 - val_accuracy: 0.8670\n",
            "\n",
            "Epoch 00020: val_accuracy did not improve from 0.87192\n",
            "Epoch 21/30\n",
            "107/107 [==============================] - 21s 194ms/step - loss: 0.1526 - accuracy: 0.9424 - val_loss: 1.0800 - val_accuracy: 0.8227\n",
            "\n",
            "Epoch 00021: val_accuracy did not improve from 0.87192\n",
            "Epoch 22/30\n",
            "107/107 [==============================] - 20s 191ms/step - loss: 0.2890 - accuracy: 0.9012 - val_loss: 0.0676 - val_accuracy: 0.8177\n",
            "\n",
            "Epoch 00022: val_accuracy did not improve from 0.87192\n",
            "Epoch 23/30\n",
            "107/107 [==============================] - 21s 192ms/step - loss: 0.2817 - accuracy: 0.9176 - val_loss: 0.4815 - val_accuracy: 0.8571\n",
            "\n",
            "Epoch 00023: val_accuracy did not improve from 0.87192\n",
            "Epoch 24/30\n",
            "107/107 [==============================] - 20s 190ms/step - loss: 0.2332 - accuracy: 0.9282 - val_loss: 0.6302 - val_accuracy: 0.8128\n",
            "\n",
            "Epoch 00024: val_accuracy did not improve from 0.87192\n",
            "Epoch 25/30\n",
            "107/107 [==============================] - 20s 190ms/step - loss: 0.1490 - accuracy: 0.9553 - val_loss: 0.2659 - val_accuracy: 0.8473\n",
            "\n",
            "Epoch 00025: val_accuracy did not improve from 0.87192\n",
            "Epoch 26/30\n",
            "107/107 [==============================] - 21s 196ms/step - loss: 0.2098 - accuracy: 0.9376 - val_loss: 0.1145 - val_accuracy: 0.8276\n",
            "\n",
            "Epoch 00026: val_accuracy did not improve from 0.87192\n",
            "Epoch 27/30\n",
            "107/107 [==============================] - 21s 192ms/step - loss: 0.2366 - accuracy: 0.9176 - val_loss: 1.0074 - val_accuracy: 0.8424\n",
            "\n",
            "Epoch 00027: val_accuracy did not improve from 0.87192\n",
            "Epoch 28/30\n",
            "107/107 [==============================] - 21s 194ms/step - loss: 0.2901 - accuracy: 0.8953 - val_loss: 0.3228 - val_accuracy: 0.8325\n",
            "\n",
            "Epoch 00028: val_accuracy did not improve from 0.87192\n",
            "Epoch 29/30\n",
            "107/107 [==============================] - 20s 190ms/step - loss: 0.1859 - accuracy: 0.9329 - val_loss: 0.4502 - val_accuracy: 0.8424\n",
            "\n",
            "Epoch 00029: val_accuracy did not improve from 0.87192\n",
            "Epoch 30/30\n",
            "107/107 [==============================] - 21s 194ms/step - loss: 0.2412 - accuracy: 0.8988 - val_loss: 0.6773 - val_accuracy: 0.8571\n",
            "\n",
            "Epoch 00030: val_accuracy did not improve from 0.87192\n"
          ],
          "name": "stdout"
        }
      ]
    },
    {
      "cell_type": "code",
      "metadata": {
        "id": "_WKSF0iDc5CU",
        "colab_type": "code",
        "colab": {
          "base_uri": "https://localhost:8080/",
          "height": 35
        },
        "outputId": "3d0230ba-1195-4bd1-a75e-26fc0d9ef6a4"
      },
      "source": [
        "total_time = time.clock() - start_time\n",
        "print(total_time)"
      ],
      "execution_count": null,
      "outputs": [
        {
          "output_type": "stream",
          "text": [
            "9180.571982\n"
          ],
          "name": "stdout"
        }
      ]
    },
    {
      "cell_type": "code",
      "metadata": {
        "id": "fh7HM2T5jAgm",
        "colab_type": "code",
        "colab": {
          "base_uri": "https://localhost:8080/",
          "height": 35
        },
        "outputId": "626c5d23-79c9-4af1-f648-1369ff39f66b"
      },
      "source": [
        "len(os.listdir('test/non-covid/'))"
      ],
      "execution_count": null,
      "outputs": [
        {
          "output_type": "execute_result",
          "data": {
            "text/plain": [
              "105"
            ]
          },
          "metadata": {
            "tags": []
          },
          "execution_count": 29
        }
      ]
    },
    {
      "cell_type": "code",
      "metadata": {
        "id": "NyP7GH1mkdbV",
        "colab_type": "code",
        "colab": {}
      },
      "source": [
        "model = load_model(file_name + '_run5.hdf5')"
      ],
      "execution_count": null,
      "outputs": []
    },
    {
      "cell_type": "code",
      "metadata": {
        "id": "NMsjCk6iE-GT",
        "colab_type": "code",
        "colab": {
          "base_uri": "https://localhost:8080/",
          "height": 35
        },
        "outputId": "a23d0e7d-dd65-4736-805a-150177f90cee"
      },
      "source": [
        "generator = test_datagen.flow_from_directory(\n",
        "        'test',\n",
        "        target_size=(W, H),\n",
        "        batch_size=1,\n",
        "        class_mode=None,  # only data, no labels\n",
        "        shuffle=False)  # keep data in same order as labels\n",
        "\n",
        "probabilities = model.predict_generator(generator, 203)"
      ],
      "execution_count": null,
      "outputs": [
        {
          "output_type": "stream",
          "text": [
            "Found 203 images belonging to 2 classes.\n"
          ],
          "name": "stdout"
        }
      ]
    },
    {
      "cell_type": "code",
      "metadata": {
        "id": "r96QAcJJi9IE",
        "colab_type": "code",
        "colab": {
          "base_uri": "https://localhost:8080/",
          "height": 53
        },
        "outputId": "4f8bf56b-55e3-4502-8760-e0ccc292ab15"
      },
      "source": [
        "from sklearn.metrics import confusion_matrix, f1_score, roc_auc_score, accuracy_score\n",
        "\n",
        "y_true = np.array([0] * 98 + [1] * 105)\n",
        "y_pred = np.argmax(probabilities, axis = 1)\n",
        "\n",
        "confusion_matrix(y_true, y_pred.round())"
      ],
      "execution_count": null,
      "outputs": [
        {
          "output_type": "execute_result",
          "data": {
            "text/plain": [
              "array([[83, 15],\n",
              "       [11, 94]])"
            ]
          },
          "metadata": {
            "tags": []
          },
          "execution_count": 36
        }
      ]
    },
    {
      "cell_type": "code",
      "metadata": {
        "id": "-PsIF9zJjoaN",
        "colab_type": "code",
        "colab": {
          "base_uri": "https://localhost:8080/",
          "height": 108
        },
        "outputId": "2f98d7e4-1cf0-4437-ebcd-049f94072e89"
      },
      "source": [
        "print(f1_score(y_true, y_pred))\n",
        "print()\n",
        "print(roc_auc_score(y_true, y_pred))\n",
        "print()\n",
        "print(accuracy_score(y_true, y_pred))"
      ],
      "execution_count": null,
      "outputs": [
        {
          "output_type": "stream",
          "text": [
            "0.8785046728971964\n",
            "\n",
            "0.8710884353741496\n",
            "\n",
            "0.8719211822660099\n"
          ],
          "name": "stdout"
        }
      ]
    }
  ]
}
